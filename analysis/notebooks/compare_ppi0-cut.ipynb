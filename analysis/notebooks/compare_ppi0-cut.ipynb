{
 "cells": [
  {
   "cell_type": "markdown",
   "metadata": {},
   "source": [
    "# Comparing the effects of a $p\\pi^0$ mass cut on PWA Results\n",
    "In the higher $\\omega\\pi^0$ mass region, baryon excitations become noticeable in the $p\\pi^0$ mass spectrum. While we don't fit the $p\\pi^0$ mass we *do* fit the $\\cos\\theta$ distribution, and these excited baryon events (typically $\\Delta$'s) will appear at $\\cos\\theta\\sim 1$. This happens as $\\cos\\theta$ measures the angle of of the $\\omega$ in the resonance rest frame, so values close to 1 mean the $\\pi^0$ is moving close to the proton, which happens when they are the decay products of an $N^\\ast$. \n",
    "\n",
    "This notebook will analyze what effects will occur when these excitations, specifically events whose $p\\pi^0$ mass is $<1.4~GeV$, are removed. Later on this ideally will flow into a full systematic study of this cut, but for now we can see the effect of this harsh mass cut. The style and structure will be *very* similar to the [compare orientations notebook](./compare_orientations.ipynb).\n",
    "\n",
    "Some Fit details are given below:\n",
    "* Bins: \n",
    "  * $t$ = [0.1, 0.2, 0.3, 0.5, 0.9]\n",
    "  * mass = 1.0 - 1.5, 20 MeV bins\n",
    "* Waveset: S, P, D wave with D/S constrained. All $m$'s and $\\epsilon$'s. Isotropic background wave included"
   ]
  },
  {
   "cell_type": "code",
   "execution_count": 1,
   "metadata": {},
   "outputs": [],
   "source": [
    "import pandas as pd\n",
    "import numpy as np\n",
    "import matplotlib.pyplot as plt\n",
    "import matplotlib as mpl\n",
    "import math\n",
    "\n",
    "from pathlib import Path    \n",
    "import sys, os\n",
    "parent_dir = str(Path().resolve().parents[1])\n",
    "sys.path.insert(0, parent_dir)\n",
    "import analysis.scripts.pwa_tools as pwa_tools"
   ]
  },
  {
   "cell_type": "markdown",
   "metadata": {},
   "source": [
    "# Load and Process Data"
   ]
  },
  {
   "cell_type": "markdown",
   "metadata": {},
   "source": [
    "Let's first loop over all our csv files and collect them into 2 big dataframes: one that holds the fit results and the other all the raw bin data. Each dataframe will have an `cut` and `t` label to denote which cut value (`0` or `1.4`) and $-t$ bin each row is from.\n",
    "\n",
    "Reminder: Each csv is for a particular $-t$ bin, and its rows are the sorted mass bins (least to greatest). So there will be \"chunks\" of many rows that correspond to the set of mass independent fits in a particular $-t$ bin."
   ]
  },
  {
   "cell_type": "code",
   "execution_count": 2,
   "metadata": {},
   "outputs": [
    {
     "name": "stdout",
     "output_type": "stream",
     "text": [
      "Adding fit df:\t45-135_t-0.3-0.5.csv\n",
      "Adding fit df:\t45-135_t-0.2-0.3.csv\n",
      "Adding data df:\t0-90_t-0.5-0.9_data.csv\n",
      "Adding fit df:\t45-135_t-0.5-0.9.csv\n",
      "Adding data df:\t45-135_t-0.5-0.9_data.csv\n",
      "Adding fit df:\t0-90_t-0.1-0.2.csv\n",
      "Adding fit df:\t0-90_t-0.2-0.3.csv\n",
      "Adding data df:\t45-135_t-0.1-0.2_data.csv\n",
      "Adding data df:\t0-90_t-0.2-0.3_data.csv\n",
      "Adding data df:\t45-135_t-0.3-0.5_data.csv\n",
      "Adding fit df:\t0-90_t-0.3-0.5.csv\n",
      "Adding fit df:\t0-90_t-0.5-0.9.csv\n",
      "Adding data df:\t0-90_t-0.1-0.2_data.csv\n",
      "Adding fit df:\t45-135_t-0.1-0.2.csv\n",
      "Adding data df:\t45-135_t-0.2-0.3_data.csv\n",
      "Adding data df:\t0-90_t-0.3-0.5_data.csv\n"
     ]
    }
   ],
   "source": [
    "# loop over all csv's and collect them into 2 lists\n",
    "path = f\"{parent_dir}/analysis/data\"\n",
    "csv_files = [f for f in os.listdir(path) if f.endswith(\".csv\")]\n",
    "\n",
    "df_list = []\n",
    "df_data_list = []\n",
    "\n",
    "for csv in csv_files:\n",
    "    # the following assumes string always in form \"mass-cut_t-bin1-bin2(_data).csv\". () denote its optional\n",
    "    i = csv.index(\"_\")\n",
    "    mass_cut = csv[0:i]\n",
    "    t_range = csv[i+3:i+10]\n",
    "    if \"data\" in csv:\n",
    "        print(f\"Adding data df:\\t{csv}\")                \n",
    "        df_data = pd.read_csv(f\"{path}/{csv}\")\n",
    "        df_data[\"cut\"] = mass_cut\n",
    "        df_data[\"t\"] = t_range\n",
    "        df_data_list.append(df_data)\n",
    "    else:\n",
    "        print(f\"Adding fit df:\\t{csv}\")\n",
    "        df = pd.read_csv(f\"{path}/{csv}\", index_col=\"index\")\n",
    "        df[\"cut\"] = mass_cut\n",
    "        df[\"t\"] = t_range\n",
    "        pwa_tools.wrap_phases(df)\n",
    "        df_list.append(df)\n",
    "\n",
    "df = pd.concat(df_list)\n",
    "df_data = pd.concat(df_data_list)"
   ]
  }
 ],
 "metadata": {
  "kernelspec": {
   "display_name": "Python 3",
   "language": "python",
   "name": "python3"
  },
  "language_info": {
   "codemirror_mode": {
    "name": "ipython",
    "version": 3
   },
   "file_extension": ".py",
   "mimetype": "text/x-python",
   "name": "python",
   "nbconvert_exporter": "python",
   "pygments_lexer": "ipython3",
   "version": "3.12.3"
  }
 },
 "nbformat": 4,
 "nbformat_minor": 2
}
