{
 "cells": [
  {
   "cell_type": "markdown",
   "id": "35bd1cde",
   "metadata": {},
   "source": [
    "# How are direct fits of Moments to Thrown Monte Carlo Performing?\n",
    "This notebook will quickly explore whether our fits with moments are performing well, but analyzing the outcome of 100 randomized fits, each with 30 unbounded moment parameters."
   ]
  },
  {
   "cell_type": "markdown",
   "id": "69e79320",
   "metadata": {},
   "source": [
    "## Loading in Data"
   ]
  },
  {
   "cell_type": "markdown",
   "id": "1e1ee12c",
   "metadata": {},
   "source": [
    "We could create a separate `best_fit.csv` file, but its simpler to quickly just know that `omegapi_23.fit` produced the best likelihood, and so we'll be using that one as the \"best\" comparison"
   ]
  },
  {
   "cell_type": "code",
   "execution_count": null,
   "id": "08951f40",
   "metadata": {},
   "outputs": [],
   "source": [
    "import pandas as pd\n",
    "\n",
    "df = pd.read_csv(\"rand_moments.csv\")\n",
    "df_cov = pd.read_csv(\"rand_moments_cov.csv\")\n",
    "df_corr = pd.read_csv(\"rand_moments_corr.csv\")\n",
    "\n",
    "best_df = df[df[\"file\"].str.contains(\"23\")]\n",
    "\n",
    "moment_columns = [col for col in df.columns if col.startswith(\"H\") and not col.endswith(\"err\")]\n",
    "moment_columns_err = [col for col in df.columns if col.startswith(\"H\") and col.endswith(\"err\")]\n",
    "print(moment_columns)"
   ]
  },
  {
   "cell_type": "markdown",
   "id": "46f6d16c",
   "metadata": {},
   "source": [
    "## Analysis"
   ]
  },
  {
   "cell_type": "markdown",
   "id": "2b7fc207",
   "metadata": {},
   "source": [
    "### Histogram of moment fit results\n",
    "Lets take a quick look at a scatter plot of each moment for the 100 fits, vs its corresponding likelihood"
   ]
  },
  {
   "cell_type": "code",
   "execution_count": null,
   "id": "1e7bb7b7",
   "metadata": {},
   "outputs": [],
   "source": [
    "import matplotlib.pyplot as plt\n",
    "\n",
    "for column in moment_columns:\n",
    "    alpha = column[1]\n",
    "    Jv, Lambda, J, M = list(column.split(\"_\")[1])\n",
    "    x_label = rf\"$H^{alpha}({Jv},{Lambda},{J},{M})$\"\n",
    "    \n",
    "    min_likelihood = df['likelihood'].min()\n",
    "    error_column = f\"{column}_err\"  # Corresponding error column\n",
    "    \n",
    "    # Define x-axis limits based on the data range\n",
    "    x_min = df[column].min() - abs(df[column].min()*0.1)  # Add some padding\n",
    "    x_max = df[column].max() + abs(df[column].max()*0.1)  # Add some padding\n",
    "    \n",
    "    fig, axes = plt.subplots(1, 2, figsize=(12, 6))\n",
    "    \n",
    "    # First subplot: Original scatter plot with error bars\n",
    "    axes[0].errorbar(df[column], df['likelihood'] - min_likelihood, xerr=df[error_column], fmt='o', alpha=0.7, label=\"Fits\")\n",
    "    axes[0].errorbar(best_df[column], best_df['likelihood'] - min_likelihood, xerr=best_df[error_column], fmt='o', color='green', markersize=10, label=\"Best Fit\")\n",
    "    axes[0].set_xlim(x_min, x_max)  # Set x-axis limits\n",
    "    axes[0].set_xlabel(x_label, loc=\"right\", size=14)\n",
    "    axes[0].set_ylabel('Δ Likelihood', loc=\"top\", size=14)\n",
    "    axes[0].grid(True)\n",
    "    axes[0].set_title(\"Δ Likelihood vs. Moment\")\n",
    "    axes[0].legend()\n",
    "    \n",
    "    # Second subplot: Scatter plot with adjusted y-limits and error bars\n",
    "    axes[1].errorbar(df[column], df['likelihood'] - min_likelihood, xerr=df[error_column], fmt='o', alpha=0.7, label=\"Fits\")\n",
    "    axes[1].errorbar(best_df[column], best_df['likelihood'] - min_likelihood, xerr=best_df[error_column], fmt='o', color='green', markersize=10, label=\"Best Fit\")\n",
    "    axes[1].set_xlim(x_min, x_max)  # Set x-axis limits\n",
    "    axes[1].set_xlabel(x_label, loc=\"right\", size=14)\n",
    "    axes[1].set_ylabel('Δ Likelihood', loc=\"top\", size=14)\n",
    "    axes[1].grid(True)\n",
    "    axes[1].set_ylim(0 - 1, 10)\n",
    "    axes[1].set_title(\"Zoomed into Best Fit Region\")\n",
    "    axes[1].legend()\n",
    "    \n",
    "    plt.tight_layout()\n",
    "    plt.show()"
   ]
  },
  {
   "cell_type": "markdown",
   "id": "04d88590",
   "metadata": {},
   "source": [
    "### $\\chi^2$ vs Likelihood\n",
    "To get a sense of how different our results were for each randomized fit, we can calculate a $\\chi^2$ for the moment parameters, and compare this to likelihood. We would expect to find our best result is different from the randomized fits."
   ]
  },
  {
   "cell_type": "code",
   "execution_count": null,
   "id": "88520029",
   "metadata": {},
   "outputs": [],
   "source": [
    "# Initialize a list to store chi2 values\n",
    "chi2_values = []\n",
    "\n",
    "# Iterate over each row in df\n",
    "for index, row in df.iterrows():\n",
    "    chi2 = 0\n",
    "    for moment, moment_err in zip(moment_columns, moment_columns_err):\n",
    "        observed = row[moment]\n",
    "        expected = best_df[moment].values[0]  # Best fit value for the moment\n",
    "        error = row[moment_err]\n",
    "        \n",
    "        # Avoid division by zero\n",
    "        if error > 0:\n",
    "            chi2 += ((observed - expected) ** 2) / (error ** 2)\n",
    "    ndf = len(moment_columns)  # Number of degrees of freedom\n",
    "    chi2_values.append(chi2 / ndf)  # Store the reduced chi2 value\n",
    "\n",
    "# Add the chi2 values as a new column in the DataFrame\n",
    "df['chi2'] = chi2_values\n",
    "\n",
    "import matplotlib.pyplot as plt\n",
    "\n",
    "# Scatter plot of chi2 vs Δ likelihood\n",
    "min_likelihood = best_df[\"likelihood\"].iloc[0]\n",
    "\n",
    "plt.figure(figsize=(10, 6))\n",
    "plt.scatter(df['chi2'], df['likelihood'] - min_likelihood, alpha=0.7, label=\"Fits\")\n",
    "\n",
    "# Add labels and title\n",
    "plt.xlabel(r\"$\\chi^2$\", fontsize=14)\n",
    "plt.ylabel(\"Δ Likelihood\", fontsize=14)\n",
    "plt.grid(True)\n",
    "plt.legend()\n",
    "plt.tight_layout()\n",
    "\n",
    "# Show the plot\n",
    "plt.show()\n",
    "\n",
    "# repeat, just on log-log scale\n",
    "plt.figure(figsize=(10, 6))\n",
    "plt.scatter(df['chi2'], df['likelihood'] - min_likelihood, alpha=0.7, label=\"Fits\")\n",
    "\n",
    "# Add labels and title\n",
    "plt.xlabel(r\"$\\chi^2/ndf$\", fontsize=14)\n",
    "plt.ylabel(\"Δ Likelihood\", fontsize=14)\n",
    "plt.grid(True)\n",
    "plt.legend()\n",
    "plt.yscale('log')\n",
    "plt.xscale('log')\n",
    "plt.tight_layout()\n",
    "\n",
    "# Show the plot\n",
    "plt.show()"
   ]
  },
  {
   "cell_type": "markdown",
   "id": "62b04488",
   "metadata": {},
   "source": [
    "### Correlations"
   ]
  },
  {
   "cell_type": "markdown",
   "id": "c94672c0",
   "metadata": {},
   "source": [
    "#### Best fit Correlations"
   ]
  },
  {
   "cell_type": "markdown",
   "id": "2a0ba743",
   "metadata": {},
   "source": [
    "#### Consistently large correlations across randomized fits"
   ]
  },
  {
   "cell_type": "markdown",
   "id": "dc1ddb08",
   "metadata": {},
   "source": []
  }
 ],
 "metadata": {
  "kernelspec": {
   "display_name": "neutralb1",
   "language": "python",
   "name": "python3"
  },
  "language_info": {
   "codemirror_mode": {
    "name": "ipython",
    "version": 3
   },
   "file_extension": ".py",
   "mimetype": "text/x-python",
   "name": "python",
   "nbconvert_exporter": "python",
   "pygments_lexer": "ipython3",
   "version": "3.12.3"
  }
 },
 "nbformat": 4,
 "nbformat_minor": 5
}
