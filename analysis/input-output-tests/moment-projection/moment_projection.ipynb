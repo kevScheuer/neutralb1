{
 "cells": [
  {
   "cell_type": "markdown",
   "metadata": {},
   "source": [
    "# Are Detector Effects Inducing Ambiguous $\\omega\\pi^0$ PWA Results?\n",
    "The results of the [detector effects](../detector_effects/detector_effects.ipynb) input-output study showed no clear indication of where the bin-to-bin inconsistencies are occurring in $\\omega\\pi^0$ partial wave analysis. No single detector effect appeared to be responsible for the problem, but it was clear that when using the *ideal* or \"thrown\" Monte Carlo data, there were no issues (aside from the expected fluctuations in negative reflectivity $\\varepsilon=-1$ waves). This suggests that the detector effects could be \"muddying\" the likelihood to such a degree that an unambiguous minimum is no longer obtainable. The best way to check for ambiguities is to project the partial wave results to **Moments**. \n",
    "\n",
    "In short, moments $H$ are the expansion coefficients of orthogonal basis functions \n",
    "$$\n",
    "    I^\\alpha(\\Omega,\\Omega_H) = \n",
    "        \\sum_{J_v=0}^2\n",
    "        \\sum_{\\Lambda=-2}^{2}\n",
    "        \\sum_{J=0}^{2*\\text{max}(J_i)}\n",
    "        \\sum_{M=-2*\\text{max}(m_i)}^{2*\\text{max}(m_i)}\n",
    "        \\frac{2J+1}{4\\pi} \\frac{2J_v+1}{4\\pi}\n",
    "        H^\\alpha(J_v,\\Lambda,J,M) \n",
    "        D_{M,\\Lambda}^{J\\ast}(\\Omega) D_{\\Lambda,0}^{J_v\\ast}(\\Omega_H)\n",
    "        \\,,\n",
    "$$\n",
    "here the Wigner D-functions $D_{m,n}^i(\\theta,\\phi,0)$, that describe our intensity. Though they lack the physical interpretation that partial waves provide, they are unique by construction i.e. do not suffer from ambiguous solutions. Moments can be written in terms of spin density matrix elements $\\rho_{i,j,m_i,m_j}$ as\n",
    "\\begin{align*}\n",
    "H^\\alpha(J_v,\\Lambda,J,M) = \n",
    "        &\\sum_{i=0}^{\\text{max}(J\\ell)_i}\n",
    "        \\sum_{j=0}^{\\text{max}(J\\ell)_j}\n",
    "        \\sum_{m_i=-J_i}^{J_i}\n",
    "        \\sum_{m_j=-J_j}^{J_j}\n",
    "        \\sum_{\\lambda=-1}^1\n",
    "        \\sum_{\\lambda'=-1}^1\n",
    "        \\frac{1}{2J_j+1} \\frac{1}{3}\n",
    "        \\\\\n",
    "        &\\times\n",
    "        \\braket{\\ell_i,0;1,\\lambda|J_i,\\lambda}\n",
    "        \\braket{\\ell_j,0;1,\\lambda'|J_j,\\lambda'}\n",
    "        \\\\\n",
    "        &\\times\n",
    "        \\braket{1,\\lambda;J_v,\\Lambda|1,\\lambda'}\n",
    "        \\braket{1,0;J_v,0|1,0}        \n",
    "        \\\\\n",
    "        &\\times \n",
    "        \\braket{J_i,m_i;J,M|J_j,m_j}\n",
    "        \\braket{J_i,\\lambda;J,\\Lambda|J_j,\\lambda'}\n",
    "        \\rho_{i,j,m_i,m_j}^\\alpha\n",
    "        \\Psi^i(w)\\Psi^{j\\ast}(w)\n",
    "    \\,,\n",
    "\\end{align*}\n",
    "which are composed of the PWA complex production coefficients $[c]$ in the reflectivity basis\n",
    "\\begin{align}    \n",
    "    \\rho^0_{i,j,m_i,m_j} &=\n",
    "    \\sum_\\varepsilon\n",
    "        [c^i]_{m_i}^{\\varepsilon} [c^j]_{m_j}^{\\varepsilon\\ast} +\n",
    "        (-1)^{m_i+m_j+\\ell_i+\\ell_j+J_i+J_j}\n",
    "        [c^i]_{-m_i}^{\\varepsilon} [c^j]_{-m_j}^{\\varepsilon\\ast}\n",
    "    \\,,\n",
    "    \\\\          \n",
    "    \\rho^1_{i,j,m_i,m_j} &=\n",
    "    \\sum_\\varepsilon\n",
    "        \\varepsilon \\left(\n",
    "            (-1)^{1+m_i+\\ell_i+J_i}\n",
    "            [c^i]_{-m_i}^{\\varepsilon} [c^j]_{m_j}^{\\varepsilon\\ast} +\n",
    "            (-1)^{1+m_j+\\ell_j+J_j}\n",
    "            [c^i]_{m_i}^{\\varepsilon} [c^j]_{-m_j}^{\\varepsilon\\ast}\n",
    "        \\right)\n",
    "    \\,,    \n",
    "    \\\\  \n",
    "    \\rho^2_{i,j,m_i,m_j} &= i\n",
    "    \\sum_\\varepsilon\n",
    "        \\varepsilon \\left(\n",
    "            (-1)^{m_i+\\ell_i+J_i}\n",
    "            [c^i]_{-m_i}^{\\varepsilon} [c^j]_{m_j}^{\\varepsilon\\ast} -\n",
    "            (-1)^{m_j+\\ell_j+J_j}\n",
    "            [c^i]_{m_i}^{\\varepsilon} [c^j]_{-m_j}^{\\varepsilon\\ast}\n",
    "        \\right)  \n",
    "    \\,.    \n",
    "\\end{align}\n",
    "For a more detailed explanation of these moments and how they can be obtained from the original partial wave description of the intensity, see [the linked note](). When ambiguities are present this effectively means different combinations of partial wave values can reproduce the same intensity value, and thus the same moments. The core problem is one of an underdetermined system of equations, in which there are simply more free parameters (partial waves) than equations to constrain them. By projecting out the moments for two partial wave fit results, we can determine whether or not they are part of the same unique solution, and thus ambiguous.\n",
    "\n",
    "This study will have a very similar structure to the detector effects study, where a \"truth\" file for each detector effect that contains the true generated values is used as a comparison point for \"truth-initialized\" fits, or a fit whose parameters are initialized to the generated values. This study will project out the moment values from the truth and truth-initialized results in each detector effect situation. If the fit result agrees with the truth values, such as in the *ideal* case, then there is no concern, as its clear the fit is able to arrive at the true solution. If the partial wave fits do not agree, then we can expect the following two outcomes:\n",
    "\n",
    "1. **The projected moment values agree** and thus our fit is 1 of potentially many ambiguous solutions. As stated before, differing partial wave results with identical moments means that we have found a case in which the same intensity value can be described by different sets of partial wave values.\n",
    "2. **The projected moment values disagree** and so we can conclude that our fit is diverging towards a uniquely different solution from the true one. \n",
    "\n",
    "Both situations are troubling. The only way to solve the ambiguities of case 1 would be to add constraints e.g. mass-dependent functions and/or removing waves. Case 2 does not rule out whether the true minima has ambiguities, and tells us that for some odd reason the fit diverges to a wrong result, despite being initialized right at the true set of parameters."
   ]
  },
  {
   "cell_type": "markdown",
   "metadata": {},
   "source": [
    "Lets start by loading in some packages and paths"
   ]
  },
  {
   "cell_type": "code",
   "execution_count": 1,
   "metadata": {},
   "outputs": [],
   "source": [
    "import pandas as pd\n",
    "import numpy as np\n",
    "import matplotlib.pyplot as plt\n",
    "\n",
    "from pathlib import Path\n",
    "import sys\n",
    "parent_dir = str(Path().resolve().parents[2])\n",
    "working_dir = f\"{parent_dir}/analysis/input-output-tests/moment-projection/\"\n",
    "sys.path.insert(0, parent_dir)\n",
    "import analysis.scripts.pwa_tools as pwa_tools"
   ]
  },
  {
   "cell_type": "markdown",
   "metadata": {},
   "source": [
    "## Loading Data and Pre-Processing\n",
    "Lets load in all our data into pandas dataframes"
   ]
  },
  {
   "cell_type": "code",
   "execution_count": null,
   "metadata": {},
   "outputs": [],
   "source": []
  },
  {
   "cell_type": "markdown",
   "metadata": {},
   "source": [
    "Below here is scratch work, stuff that I'll want to formerly put together above"
   ]
  },
  {
   "cell_type": "code",
   "execution_count": null,
   "metadata": {},
   "outputs": [],
   "source": [
    "\n",
    "\n",
    "fit_df = pd.read_csv(\"../../../fits.csv\")\n",
    "moment_df = pd.read_csv(\"../../../moments.csv\", index_col=\"file\")\n",
    "\n",
    "print(moment_df[\"H0(0,0,0,0)\"].apply(lambda x: complex(x).real).max())\n",
    "print(fit_df[\"generated_events\"].max())\n",
    "scale = moment_df[\"H0(0,0,0,0)\"].apply(lambda x: complex(x).real).max() / fit_df[\"generated_events\"].max()\n",
    "print(scale)\n",
    "fit_df[\"generated_events\"].plot(label=\"gen events\")\n",
    "(fit_df[\"generated_events\"]*scale).plot(label=\"scaled events\")\n",
    "moment_df[\"H0(0,0,0,0)\"].apply(lambda x: complex(x).real).plot(label=\"H0(0,0,0,0)\")\n",
    "plt.legend()"
   ]
  },
  {
   "cell_type": "markdown",
   "metadata": {},
   "source": [
    "Print the sum of the real and imaginary parts for each moment. We'll want to formarly do this in the final text because this is a good way to check that we projected things properly "
   ]
  },
  {
   "cell_type": "code",
   "execution_count": null,
   "metadata": {},
   "outputs": [],
   "source": [
    "alpha = 0\n",
    "for col in moment_df.columns:\n",
    "    if col.split(\"(\")[0][1] != alpha:\n",
    "        print(\"-\"*50)\n",
    "    alpha = col.split(\"(\")[0][1]\n",
    "    real_sum = moment_df[col].apply(lambda x: complex(x).real).sum()\n",
    "    imag_sum = moment_df[col].apply(lambda x: complex(x).imag).sum()    \n",
    "\n",
    "    print(f\"{col:<10}: {real_sum:<13.3f} + {imag_sum:.3f}i\")"
   ]
  },
  {
   "cell_type": "code",
   "execution_count": null,
   "metadata": {},
   "outputs": [],
   "source": []
  }
 ],
 "metadata": {
  "kernelspec": {
   "display_name": "neutralb1",
   "language": "python",
   "name": "python3"
  },
  "language_info": {
   "codemirror_mode": {
    "name": "ipython",
    "version": 3
   },
   "file_extension": ".py",
   "mimetype": "text/x-python",
   "name": "python",
   "nbconvert_exporter": "python",
   "pygments_lexer": "ipython3",
   "version": "3.12.3"
  }
 },
 "nbformat": 4,
 "nbformat_minor": 2
}
