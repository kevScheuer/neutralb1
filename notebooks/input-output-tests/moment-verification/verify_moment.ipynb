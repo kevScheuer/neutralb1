{
 "cells": [
  {
   "cell_type": "markdown",
   "id": "d98cbf86",
   "metadata": {},
   "source": [
    "# Verifying the Projection of Moments with Signal MC\n",
    "As found [previously](../moment-projection/moment_projection.ipynb), the projected moments have some missing factors causing them not to match expectations. A direct fit to data with moments as the parameters is now available for use, and so we can use those as \"truth\" information to compare our projected moments to. The fitted moments do have issues in obtaining moments with $>1\\%$ contribution, but having ~8 moments should be enough to track down the missing factors.\n",
    "\n",
    "This study will proceed as follows:\n",
    "1. Generate Signal Monte Carlo (MC) according to a pseudo-realistic set of waves (no acceptance effects i.e. *thrown*)\n",
    "   1. 35% polarization and in the PARA_0 orientation\n",
    "2. Fit MC with same waveset, and obtain a fit result that should match the generated wave values\n",
    "3. Project moments from the fit result to obtain a projected moment-set $H_{\\text{proj}}$\n",
    "4. Fit MC with the same number of moments, and obtain a fitted moment-set $H_{\\text{fit}}$\n",
    "5. Compare the fit and projected sets to investigate the missing factors."
   ]
  },
  {
   "cell_type": "markdown",
   "id": "abb79a25",
   "metadata": {},
   "source": [
    "## Setup"
   ]
  },
  {
   "cell_type": "code",
   "execution_count": null,
   "id": "4eb931c8",
   "metadata": {},
   "outputs": [],
   "source": [
    "# load libraries\n",
    "import pandas as pd\n",
    "import os, sys\n",
    "import numpy as np\n",
    "import matplotlib.pyplot as plt\n",
    "import pathlib\n",
    "\n",
    "# load in the workspace dir so we can use package modules\n",
    "current_dir = pathlib.Path.cwd()\n",
    "WORKSPACE_DIR = None\n",
    "while current_dir != current_dir.parent:\n",
    "    if (current_dir / \"neutralb1\").is_dir():\n",
    "        WORKSPACE_DIR = str(current_dir / \"neutralb1\")\n",
    "        sys.path.insert(0, WORKSPACE_DIR)\n",
    "    current_dir = current_dir.parent\n",
    "if WORKSPACE_DIR is None:\n",
    "    raise FileNotFoundError(\"Could not find 'neutralb1' directory in the path.\")\n",
    "\n",
    "import src.utils.utils as utils\n",
    "import src.analysis.pwa_tools as pwa_tools\n",
    "\n",
    "utils.load_shell_environment()\n",
    "plt.style.use(f\"{WORKSPACE_DIR}/config/pwa_plotter.mplstyle\")"
   ]
  },
  {
   "cell_type": "markdown",
   "id": "5e732744",
   "metadata": {},
   "source": [
    "### Generate MC and fit with amplitudes\n",
    "We'll use the same cfg file to generate and fit the amplitude-based Monte Carlo with. This will be done in a single bin of mass at:\n",
    "* $0.1 < -t < 0.2$\n",
    "* $8.2 < E_\\gamma < 8.8$\n",
    "* $1.20 < M_{\\omega\\pi^0} < 1.22$\n",
    "  \n",
    "Since by default the environment is setup to run on GPU, we will have to perform them separate from here in an interactive node session to produce the files. The process, run outside of this notebook, is:\n",
    "1. `salloc --gres gpu:A100:1 --partition gpu --nodes 1 --mem-per-cpu=4G`\n",
    "2. `bash run.sh`"
   ]
  },
  {
   "cell_type": "code",
   "execution_count": null,
   "id": "f6b445e9",
   "metadata": {
    "vscode": {
     "languageId": "shellscript"
    }
   },
   "outputs": [],
   "source": []
  }
 ],
 "metadata": {
  "kernelspec": {
   "display_name": "neutralb1",
   "language": "python",
   "name": "python3"
  },
  "language_info": {
   "codemirror_mode": {
    "name": "ipython",
    "version": 3
   },
   "file_extension": ".py",
   "mimetype": "text/x-python",
   "name": "python",
   "nbconvert_exporter": "python",
   "pygments_lexer": "ipython3",
   "version": "3.12.3"
  }
 },
 "nbformat": 4,
 "nbformat_minor": 5
}
