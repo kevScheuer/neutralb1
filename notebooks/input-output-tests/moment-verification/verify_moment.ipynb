{
 "cells": [
  {
   "cell_type": "code",
   "execution_count": null,
   "id": "10e4bded",
   "metadata": {},
   "outputs": [
    {
     "name": "stdout",
     "output_type": "stream",
     "text": [
      "d940728e426b01b59832a3bf43f791e3e2a51927\n"
     ]
    }
   ],
   "source": [
    "import subprocess\n",
    "import pathlib\n",
    "import os, sys\n",
    "\n",
    "# load in the workspace dir\n",
    "current_dir = pathlib.Path.cwd()\n",
    "WORKSPACE_DIR = None\n",
    "while current_dir != current_dir.parent:\n",
    "    if (current_dir / \"neutralb1\").is_dir():\n",
    "        WORKSPACE_DIR = str(current_dir / \"neutralb1\")        \n",
    "    current_dir = current_dir.parent\n",
    "if WORKSPACE_DIR is None:\n",
    "    raise FileNotFoundError(\"Could not find 'neutralb1' directory in the path.\")\n",
    "\n",
    "git_hash = subprocess.check_output(['git', 'rev-parse', 'HEAD'], cwd=WORKSPACE_DIR).decode('utf-8').strip()\n",
    "print(git_hash)"
   ]
  },
  {
   "cell_type": "markdown",
   "id": "07fe16b6",
   "metadata": {},
   "source": [
    "**Repository Version** \n",
    "This notebook was run at commit:\n",
    "`FILL WHEN DONE`"
   ]
  },
  {
   "cell_type": "markdown",
   "id": "d98cbf86",
   "metadata": {},
   "source": [
    "# Verifying the Projection of Moments with Signal MC\n",
    "As found previously, the projected moments have some missing factors causing them not to match expectations. Since then, two major updates have occured:\n",
    "1. I've developed a direct fit to data using moments as AmpTools parameters, which should now provide a set of \"true\" values we can compare the projected moments to.\n",
    "   <br>a. Has issues in extracting moments with $>1\\%$ contribution, but this should be enough to track down factors\n",
    "2. The old python projection script has now been replaced by a c++ version, that also includes the necessary normalization integrals\n",
    "   a. The script may likely be updated over time, so check the commit hash for what version to use.\n",
    "\n",
    "\n",
    "This study will proceed as follows:\n",
    "1. Generate Signal Monte Carlo (MC) according to a pseudo-realistic set of waves (no acceptance effects i.e. *thrown*)\n",
    "   <br>a. 35% polarization and in the PARA_0 orientation\n",
    "2. Fit MC with same waveset, and obtain a fit result that should match the generated wave values\n",
    "3. Project moments from the fit result to obtain a projected moment-set $H_{\\text{proj}}$\n",
    "4. Fit MC with the same number of moments, and obtain a fitted moment-set $H_{\\text{fit}}$\n",
    "5. Compare the fit and projected sets to investigate the missing factors."
   ]
  },
  {
   "cell_type": "markdown",
   "id": "abb79a25",
   "metadata": {},
   "source": [
    "## Setup"
   ]
  },
  {
   "cell_type": "code",
   "execution_count": null,
   "id": "4eb931c8",
   "metadata": {},
   "outputs": [
    {
     "name": "stderr",
     "output_type": "stream",
     "text": [
      "bash: line 1: /w/halld-scshelf2101/kscheuer/neutralb1/setup_gluex.sh: No such file or directory\n"
     ]
    }
   ],
   "source": [
    "# load libraries\n",
    "import pandas as pd\n",
    "import os, sys\n",
    "import numpy as np\n",
    "import matplotlib.pyplot as plt\n",
    "\n",
    "import src.utils.utils as utils\n",
    "import src.analysis.pwa_tools as pwa_tools\n",
    "\n",
    "utils.load_environment()\n",
    "plt.style.use(f\"{WORKSPACE_DIR}/config/pwa_plotter.mplstyle\")\n",
    "\n",
    "# get the cwd\n",
    "CWD = pathlib.Path.cwd()"
   ]
  },
  {
   "cell_type": "markdown",
   "id": "5e732744",
   "metadata": {},
   "source": [
    "### Generate MC and fit with amplitudes\n",
    "We'll use the same cfg file to generate and fit the amplitude-based Monte Carlo with. This will be done in a single bin of mass at:\n",
    "* $0.1 < -t < 0.2$\n",
    "* $8.2 < E_\\gamma < 8.8$\n",
    "* $1.20 < M_{\\omega\\pi^0} < 1.22$"
   ]
  },
  {
   "cell_type": "code",
   "execution_count": 10,
   "id": "f6b445e9",
   "metadata": {},
   "outputs": [
    {
     "name": "stdout",
     "output_type": "stream",
     "text": [
      "# This cfg file is designed to generate and fit waves in a single mass bin\n",
      "# to confirm the projection of moments is working correctly. No acceptance effects\n",
      "# will be applied, and the phasespace will contain the same TEM cuts as the signal\n",
      "#   -t: 0.1 - 0.2\n",
      "#    M: 1.2 - 1.22\n",
      "#    E: 8.2 - 8.8\n",
      "#\n",
      "# The waveset is pseudo-realistic, and comes from the previous truth-initialized fits,\n",
      "# but has already applied the Breit-Wigner and scale parameter to the complex values\n",
      "\n",
      "\n",
      "# generator-level configuration parameters\n",
      "define vector 0.782 0.008\n",
      "define beamconfig beam.cfg\n",
      "\n",
      "# fit setup\n",
      "fit omegapi\n",
      "normintfile omegapi omegapi.ni\n",
      "reaction omegapi Beam Proton Pi01 Pi02 Pi+ Pi-\n",
      "sum omegapi ImagNegSign RealNegSign RealPosSign ImagPosSign Bkgd\n"
     ]
    }
   ],
   "source": [
    "with open(f\"{CWD}/amplitudes.cfg\", \"r\") as f:\n",
    "    for i in range(20):\n",
    "        print(f.readline(), end=\"\")"
   ]
  },
  {
   "cell_type": "code",
   "execution_count": null,
   "id": "eb5abf54",
   "metadata": {
    "vscode": {
     "languageId": "shellscript"
    }
   },
   "outputs": [],
   "source": []
  }
 ],
 "metadata": {
  "kernelspec": {
   "display_name": "neutralb1",
   "language": "python",
   "name": "python3"
  },
  "language_info": {
   "codemirror_mode": {
    "name": "ipython",
    "version": 3
   },
   "file_extension": ".py",
   "mimetype": "text/x-python",
   "name": "python",
   "nbconvert_exporter": "python",
   "pygments_lexer": "ipython3",
   "version": "3.12.3"
  }
 },
 "nbformat": 4,
 "nbformat_minor": 5
}
