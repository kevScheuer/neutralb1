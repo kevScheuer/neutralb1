{
 "cells": [
  {
   "cell_type": "markdown",
   "metadata": {},
   "source": [
    "# Checking Detector Acceptance with the Full $p\\pi^0$ Mass Range\n",
    "As part of the series of input-output studies aiming to determine where the bin-to-bin PWA inconsistencies occur, the Monte Carlo which only has the detector acceptance (and a more minor note uses the tagged beam $\\gamma$ 4 vector) still has these problems. This dataset though still has a data-mirrored cut on it, where we required that the mass of the $p\\pi^0$ system be greater than $1.4~GeV$. In the data this was aimed at removing baryon contributions like the $\\Delta^+$.\n",
    "\n",
    "Our Monte Carlo of course does not generate these baryons, but we applied the cut to better mirror how data was treated. By removing this mass region though, we also remove events from around 0.8 to 1.0 in $\\cos\\theta$, an angular variable the fit depends on. So by removing this mass cut we will gain the angular information back, and potentially fix these bin instabilities."
   ]
  },
  {
   "cell_type": "markdown",
   "metadata": {},
   "source": [
    "We'll run this notebook like the many others, analyzing the truth-initialized and randomized fits and checking for issues"
   ]
  },
  {
   "cell_type": "code",
   "execution_count": 2,
   "metadata": {},
   "outputs": [],
   "source": [
    "import pandas as pd\n",
    "\n",
    "from pathlib import Path\n",
    "import sys, os\n",
    "parent_dir = str(Path().resolve().parents[4])\n",
    "sys.path.insert(0, parent_dir)\n",
    "import analysis.scripts.pwa_tools as pwa_tools"
   ]
  },
  {
   "cell_type": "markdown",
   "metadata": {},
   "source": [
    "## Truth-initialized fits\n"
   ]
  },
  {
   "cell_type": "code",
   "execution_count": null,
   "metadata": {},
   "outputs": [],
   "source": [
    "data_path = f\"{parent_dir}/analysis/input-output-tests/0m_1m_1p/mcaccept_noaccidental/no_ppi0_cut\"\n",
    "\n",
    "df_truth_init = pd.read_csv(f\"{data_path}/truth_init.csv\", index_col=\"index\")\n",
    "df_data = pd.read_csv(f\"{data_path}/data.csv\")\n",
    "df_truth = pd.read_csv(f\"{data_path}/truth.csv\")\n",
    "\n",
    "\n",
    "plotter_init = pwa_tools.Plotter(df_truth_init, df_data, truth_df=df_truth)\n",
    "plotter_init.jp()\n",
    "plotter_init.intensities()\n",
    "plotter_init.intensities(True, True)"
   ]
  },
  {
   "cell_type": "markdown",
   "metadata": {},
   "source": [
    "## Randomized Fits"
   ]
  },
  {
   "cell_type": "code",
   "execution_count": null,
   "metadata": {},
   "outputs": [],
   "source": [
    "df = pd.read_csv(f\"{data_path}/best_fits.csv\", index_col=\"index\")\n",
    "\n",
    "plotter = pwa_tools.Plotter(df, df_data, truth_df=df_truth)\n",
    "plotter.jp()\n",
    "plotter.intensities()\n",
    "plotter.intensities(True, True)"
   ]
  },
  {
   "cell_type": "code",
   "execution_count": null,
   "metadata": {},
   "outputs": [],
   "source": []
  }
 ],
 "metadata": {
  "kernelspec": {
   "display_name": "neutralb1",
   "language": "python",
   "name": "python3"
  },
  "language_info": {
   "codemirror_mode": {
    "name": "ipython",
    "version": 3
   },
   "file_extension": ".py",
   "mimetype": "text/x-python",
   "name": "python",
   "nbconvert_exporter": "python",
   "pygments_lexer": "ipython3",
   "version": "3.12.3"
  }
 },
 "nbformat": 4,
 "nbformat_minor": 2
}
