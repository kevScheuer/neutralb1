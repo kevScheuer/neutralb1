{
 "cells": [
  {
   "cell_type": "code",
   "execution_count": 1,
   "id": "10e4bded",
   "metadata": {},
   "outputs": [
    {
     "name": "stdout",
     "output_type": "stream",
     "text": [
      "26a17f619decf7e133691d11376ed946192bf8cd\n"
     ]
    }
   ],
   "source": [
    "import subprocess\n",
    "import neutralb1.utils\n",
    "\n",
    "WORKSPACE_DIR = neutralb1.utils.get_workspace_dir()\n",
    "\n",
    "git_hash = subprocess.check_output(['git', 'rev-parse', 'HEAD'], cwd=WORKSPACE_DIR).decode('utf-8').strip()\n",
    "print(git_hash)"
   ]
  },
  {
   "cell_type": "markdown",
   "id": "07fe16b6",
   "metadata": {},
   "source": [
    "**Repository Version** \n",
    "This notebook was run at commit:\n",
    "`f9ef59b48f9086009262860ec791bb0b925c6645`"
   ]
  },
  {
   "cell_type": "markdown",
   "id": "d98cbf86",
   "metadata": {},
   "source": [
    "# Verifying the Projection of Moments with Signal MC\n",
    "As found previously, the projected moments have some missing factors causing them not to match expectations. Since then, two major updates have occured:\n",
    "1. I've developed a direct fit to data using moments as AmpTools parameters, which should now provide a set of \"true\" values we can compare the projected moments to.\n",
    "   <br>a. Has issues in extracting moments with $>1\\%$ contribution, but this should be enough to track down factors\n",
    "2. The old python projection script has now been replaced by a c++ version, that also includes the necessary normalization integrals\n",
    "   a. The script may likely be updated over time, so check the commit hash for what version to use.\n",
    "\n",
    "This study will proceed as follows:\n",
    "1. Generate Signal Monte Carlo (MC) according to a pseudo-realistic set of waves (no acceptance effects i.e. *thrown*)\n",
    "   <br>a. 35% polarization and in the PARA_0 orientation\n",
    "2. Fit MC with same waveset, and obtain a fit result that should match the generated wave values\n",
    "3. Project moments from the fit result to obtain a projected moment-set $H_{\\text{proj}}$\n",
    "4. Fit MC with the same number of moments, and obtain a fitted moment-set $H_{\\text{fit}}$\n",
    "5. Compare the fit and projected sets to investigate the missing factors."
   ]
  },
  {
   "cell_type": "markdown",
   "id": "abb79a25",
   "metadata": {},
   "source": [
    "## Setup"
   ]
  },
  {
   "cell_type": "code",
   "execution_count": 2,
   "id": "4eb931c8",
   "metadata": {},
   "outputs": [],
   "source": [
    "# load common libraries\n",
    "import pandas as pd\n",
    "import pathlib\n",
    "import os, sys\n",
    "import numpy as np\n",
    "import matplotlib.pyplot as plt\n",
    "\n",
    "# load neutralb1 libraries\n",
    "import neutralb1.utils as utils\n",
    "from neutralb1.analysis.result import ResultManager\n",
    "\n",
    "utils.load_environment()\n",
    "\n",
    "# load in useful directories as constants\n",
    "CWD = pathlib.Path.cwd()\n",
    "STUDY_DIR = f\"{WORKSPACE_DIR}/studies/input-output-tests/verify-moment\"\n",
    "TRUTH_DIR = f\"{STUDY_DIR}/data/amp_truth\"\n",
    "AMP_DIR = f\"{STUDY_DIR}/data/amplitude_results\"\n",
    "MOMENT_DIR = f\"{STUDY_DIR}/data/moment_results\"\n",
    "\n",
    "# set env variables for shell cells\n",
    "os.environ[\"WORKSPACE_DIR\"] = WORKSPACE_DIR\n",
    "os.environ['STUDY_DIR'] = STUDY_DIR\n",
    "os.environ['TRUTH_DIR'] = TRUTH_DIR\n",
    "os.environ['AMP_DIR'] = AMP_DIR\n",
    "os.environ['MOMENT_DIR'] = MOMENT_DIR\n"
   ]
  },
  {
   "cell_type": "markdown",
   "id": "5e732744",
   "metadata": {},
   "source": [
    "## Data Generation and Fits"
   ]
  },
  {
   "cell_type": "markdown",
   "id": "75d54b2d",
   "metadata": {},
   "source": [
    "### Generate\n",
    "We'll use the same cfg file to generate and fit the amplitude-based Monte Carlo with. This will be done in a single bin of mass at:\n",
    "* $0.1 < -t < 0.2$\n",
    "* $8.2 < E_\\gamma < 8.8$\n",
    "* $1.20 < M_{\\omega\\pi^0} < 1.22$\n",
    "\n",
    "The data file produced by `gen_vec_ps` is used by the fits, but only contains the simple 4-vectors and none of the histograms that we typically use for conversion to a csv file. So we must use the `gen_vec_ps_diagnostic.root` file to extract this information. This file has no information on the $E_\\gamma$ variable though, but this is okay to leave empty as we know what range we're generating / do not use it from the csv."
   ]
  },
  {
   "cell_type": "code",
   "execution_count": 3,
   "id": "f6b445e9",
   "metadata": {},
   "outputs": [
    {
     "name": "stdout",
     "output_type": "stream",
     "text": [
      "# This cfg file is designed to generate and fit waves in a single mass bin\n",
      "# to confirm the projection of moments is working correctly. No acceptance effects\n",
      "# will be applied, and the phasespace will contain the same TEM cuts as the signal\n",
      "#   -t: 0.1 - 0.2\n",
      "#    M: 1.2 - 1.22\n",
      "#    E: 8.2 - 8.8\n",
      "#\n",
      "# The waveset is pseudo-realistic, and comes from the previous truth-initialized fits,\n",
      "# but has already applied the Breit-Wigner and scale parameter to the complex values\n",
      "\n",
      "\n",
      "# generator-level configuration parameters\n",
      "define vector 0.782 0.008\n",
      "define beamconfig beam.cfg\n",
      "\n",
      "# fit setup\n",
      "fit omegapi\n",
      "normintfile omegapi omegapi.ni\n",
      "reaction omegapi Beam Proton Pi01 Pi02 Pi+ Pi-\n",
      "sum omegapi ImagNegSign RealNegSign RealPosSign ImagPosSign Bkgd\n",
      "\n",
      "# load in data and phasespace (gen == acc in this case)\n",
      "genmc omegapi ROOTDataReader anglesOmegaPiPhaseSpace.root \n",
      "accmc omegapi ROOTDataReader anglesOmegaPiPhaseSpaceAcc.root\n",
      "data omegapi ROOTDataReader data.root\n",
      "\n",
      "######## AMPLITUDES ########\n",
      "#---- m1pmS ----\n",
      "\n",
      "## Sum = ImagNegSign, Orientation = PARA_0 ##\n",
      "amplitude omegapi::ImagNegSign::m1pmS Vec_ps_refl 1 -1 0 -1 -1 0 0.3519 omega3pi\n",
      "initialize omegapi::ImagNegSign::m1pmS cartesian 32.18638792 -22.31468862\n",
      "## Sum = RealPosSign, Orientation = PARA_0 ##\n",
      "amplitude omegapi::RealPosSign::m1pmS Vec_ps_refl 1 -1 0 1 1 0 0.3519 omega3pi \n",
      "initialize omegapi::RealPosSign::m1pmS cartesian 32.18638792 -22.31468862\n",
      "\n",
      "constrain omegapi::ImagNegSign::m1pmS omegapi::RealPosSign::m1pmS \n",
      "\n",
      "#---- m1pmD ----\n",
      "\n",
      "## Sum = ImagNegSign, Orientation = PARA_0 ##\n",
      "amplitude omegapi::ImagNegSign::m1pmD Vec_ps_refl 1 -1 2 -1 -1 0 0.3519 omega3pi \n",
      "initialize omegapi::ImagNegSign::m1pmD cartesian -85.45846867 -33.60548763\n",
      "## Sum = RealPosSign, Orientation = PARA_0 ##\n",
      "amplitude omegapi::RealPosSign::m1pmD Vec_ps_refl 1 -1 2 1 1 0 0.3519 omega3pi \n",
      "initialize omegapi::RealPosSign::m1pmD cartesian -85.45846867 -33.60548763\n",
      "\n",
      "constrain omegapi::ImagNegSign::m1pmD omegapi::RealPosSign::m1pmD \n",
      "\n",
      "#---- m1p0S ----\n",
      "\n",
      "## Sum = ImagNegSign, Orientation = PARA_0 ##\n",
      "amplitude omegapi::ImagNegSign::m1p0S Vec_ps_refl 1 0 0 -1 -1 0 0.3519 omega3pi \n",
      "initialize omegapi::ImagNegSign::m1p0S cartesian -17.95429149 -49.76979288\n",
      "## Sum = RealPosSign, Orientation = PARA_0 ##\n",
      "amplitude omegapi::RealPosSign::m1p0S Vec_ps_refl 1 0 0 1 1 0 0.3519 omega3pi \n",
      "initialize omegapi::RealPosSign::m1p0S cartesian -17.95429149 -49.76979288\n",
      "\n",
      "constrain omegapi::ImagNegSign::m1p0S omegapi::RealPosSign::m1p0S \n",
      "\n",
      "#---- m1p0D ----\n",
      "\n",
      "## Sum = ImagNegSign, Orientation = PARA_0 ##\n",
      "amplitude omegapi::ImagNegSign::m1p0D Vec_ps_refl 1 0 2 -1 -1 0 0.3519 omega3pi \n",
      "initialize omegapi::ImagNegSign::m1p0D cartesian 55.34890297 -26.21975025\n",
      "## Sum = RealPosSign, Orientation = PARA_0 ##\n",
      "amplitude omegapi::RealPosSign::m1p0D Vec_ps_refl 1 0 2 1 1 0 0.3519 omega3pi \n",
      "initialize omegapi::RealPosSign::m1p0D cartesian 55.34890297 -26.21975025\n",
      "\n",
      "constrain omegapi::ImagNegSign::m1p0D omegapi::RealPosSign::m1p0D \n",
      "\n",
      "#---- m1ppS ----\n",
      "\n",
      "## Sum = ImagNegSign, Orientation = PARA_0 ##\n",
      "amplitude omegapi::ImagNegSign::m1ppS Vec_ps_refl 1 1 0 -1 -1 0 0.3519 omega3pi \n",
      "initialize omegapi::ImagNegSign::m1ppS cartesian -9.899249989 -2.037668855\n",
      "## Sum = RealPosSign, Orientation = PARA_0 ##\n",
      "amplitude omegapi::RealPosSign::m1ppS Vec_ps_refl 1 1 0 1 1 0 0.3519 omega3pi \n",
      "initialize omegapi::RealPosSign::m1ppS cartesian -9.899249989 -2.037668855\n",
      "\n",
      "constrain omegapi::ImagNegSign::m1ppS omegapi::RealPosSign::m1ppS \n",
      "\n",
      "#---- m1ppD ----\n",
      "\n",
      "## Sum = ImagNegSign, Orientation = PARA_0 ##\n",
      "amplitude omegapi::ImagNegSign::m1ppD Vec_ps_refl 1 1 2 -1 -1 0 0.3519 omega3pi \n",
      "initialize omegapi::ImagNegSign::m1ppD cartesian 93.94713738 12.66696942\n",
      "## Sum = RealPosSign, Orientation = PARA_0 ##\n",
      "amplitude omegapi::RealPosSign::m1ppD Vec_ps_refl 1 1 2 1 1 0 0.3519 omega3pi \n",
      "initialize omegapi::RealPosSign::m1ppD cartesian 93.94713738 12.66696942\n",
      "\n",
      "constrain omegapi::ImagNegSign::m1ppD omegapi::RealPosSign::m1ppD \n",
      "\n",
      "#---- p1pmS ----\n",
      "\n",
      "## Sum = ImagPosSign, Orientation = PARA_0 ##\n",
      "amplitude omegapi::ImagPosSign::p1pmS Vec_ps_refl 1 -1 0 -1 1 0 0.3519 omega3pi \n",
      "initialize omegapi::ImagPosSign::p1pmS cartesian -88.73887922 -169.4728037\n",
      "## Sum = RealNegSign, Orientation = PARA_0 ##\n",
      "amplitude omegapi::RealNegSign::p1pmS Vec_ps_refl 1 -1 0 1 -1 0 0.3519 omega3pi \n",
      "initialize omegapi::RealNegSign::p1pmS cartesian -88.73887922 -169.4728037\n",
      "\n",
      "constrain omegapi::ImagPosSign::p1pmS omegapi::RealNegSign::p1pmS \n",
      "\n",
      "#---- p1pmD ----\n",
      "\n",
      "## Sum = ImagPosSign, Orientation = PARA_0 ##\n",
      "amplitude omegapi::ImagPosSign::p1pmD Vec_ps_refl 1 -1 2 -1 1 0 0.3519 omega3pi \n",
      "initialize omegapi::ImagPosSign::p1pmD cartesian -73.81994314 -30.81116196\n",
      "## Sum = RealNegSign, Orientation = PARA_0 ##\n",
      "amplitude omegapi::RealNegSign::p1pmD Vec_ps_refl 1 -1 2 1 -1 0 0.3519 omega3pi \n",
      "initialize omegapi::RealNegSign::p1pmD cartesian -73.81994314 -30.81116196\n",
      "\n",
      "constrain omegapi::ImagPosSign::p1pmD omegapi::RealNegSign::p1pmD \n",
      "\n",
      "#---- p1p0S ----\n",
      "\n",
      "## Sum = ImagPosSign, Orientation = PARA_0 ##\n",
      "amplitude omegapi::ImagPosSign::p1p0S Vec_ps_refl 1 0 0 -1 1 0 0.3519 omega3pi \n",
      "initialize omegapi::ImagPosSign::p1p0S cartesian 220.239997 610.5113667\n",
      "## Sum = RealNegSign, Orientation = PARA_0 ##\n",
      "amplitude omegapi::RealNegSign::p1p0S Vec_ps_refl 1 0 0 1 -1 0 0.3519 omega3pi \n",
      "initialize omegapi::RealNegSign::p1p0S cartesian 220.239997 610.5113667\n",
      "\n",
      "constrain omegapi::ImagPosSign::p1p0S omegapi::RealNegSign::p1p0S \n",
      "\n",
      "#---- p1p0D ----\n",
      "\n",
      "## Sum = ImagPosSign, Orientation = PARA_0 ##\n",
      "amplitude omegapi::ImagPosSign::p1p0D Vec_ps_refl 1 0 2 -1 1 0 0.3519 omega3pi \n",
      "initialize omegapi::ImagPosSign::p1p0D cartesian 104.1761938 370.4579388\n",
      "## Sum = RealNegSign, Orientation = PARA_0 ##\n",
      "amplitude omegapi::RealNegSign::p1p0D Vec_ps_refl 1 0 2 1 -1 0 0.3519 omega3pi \n",
      "initialize omegapi::RealNegSign::p1p0D cartesian 104.1761938 370.4579388\n",
      "\n",
      "constrain omegapi::ImagPosSign::p1p0D omegapi::RealNegSign::p1p0D \n",
      "\n",
      "#---- p1ppS ----\n",
      "\n",
      "## Sum = ImagPosSign, Orientation = PARA_0 ##\n",
      "amplitude omegapi::ImagPosSign::p1ppS Vec_ps_refl 1 1 0 -1 1 0 0.3519 omega3pi \n",
      "initialize omegapi::ImagPosSign::p1ppS cartesian -452.9434494 -255.9519185\n",
      "## Sum = RealNegSign, Orientation = PARA_0 ##\n",
      "amplitude omegapi::RealNegSign::p1ppS Vec_ps_refl 1 1 0 1 -1 0 0.3519 omega3pi \n",
      "initialize omegapi::RealNegSign::p1ppS cartesian -452.9434494 -255.9519185\n",
      "\n",
      "constrain omegapi::ImagPosSign::p1ppS omegapi::RealNegSign::p1ppS \n",
      "\n",
      "#---- p1ppD ----\n",
      "\n",
      "## Sum = ImagPosSign, Orientation = PARA_0 ##\n",
      "amplitude omegapi::ImagPosSign::p1ppD Vec_ps_refl 1 1 2 -1 1 0 0.3519 omega3pi \n",
      "initialize omegapi::ImagPosSign::p1ppD cartesian -259.2973173 -216.4186967\n",
      "## Sum = RealNegSign, Orientation = PARA_0 ##\n",
      "amplitude omegapi::RealNegSign::p1ppD Vec_ps_refl 1 1 2 1 -1 0 0.3519 omega3pi \n",
      "initialize omegapi::RealNegSign::p1ppD cartesian -259.2973173 -216.4186967\n",
      "\n",
      "constrain omegapi::ImagPosSign::p1ppD omegapi::RealNegSign::p1ppD \n",
      "\n",
      "#---- m1mmP ----\n",
      "\n",
      "## Sum = ImagNegSign, Orientation = PARA_0 ##\n",
      "amplitude omegapi::ImagNegSign::m1mmP Vec_ps_refl 1 -1 1 -1 -1 0 0.3519 omega3pi \n",
      "initialize omegapi::RealPosSign::m1mmP cartesian 2.898050437 -24.61824224\n",
      "## Sum = RealPosSign, Orientation = PARA_0 ##\n",
      "amplitude omegapi::RealPosSign::m1mmP Vec_ps_refl 1 -1 1 1 1 0 0.3519 omega3pi \n",
      "initialize omegapi::ImagNegSign::m1mmP cartesian 2.898050437 -24.61824224\n",
      "\n",
      "constrain omegapi::ImagNegSign::m1mmP omegapi::RealPosSign::m1mmP \n",
      "\n",
      "#---- m1m0P ----\n",
      "\n",
      "## Sum = ImagNegSign, Orientation = PARA_0 ##\n",
      "amplitude omegapi::ImagNegSign::m1m0P Vec_ps_refl 1 0 1 -1 -1 0 0.3519 omega3pi \n",
      "initialize omegapi::RealPosSign::m1m0P cartesian 2.455134493 -1.716043364\n",
      "## Sum = RealPosSign, Orientation = PARA_0 ##\n",
      "amplitude omegapi::RealPosSign::m1m0P Vec_ps_refl 1 0 1 1 1 0 0.3519 omega3pi \n",
      "initialize omegapi::ImagNegSign::m1m0P cartesian 2.455134493 -1.716043364\n",
      "\n",
      "constrain omegapi::ImagNegSign::m1m0P omegapi::RealPosSign::m1m0P \n",
      "\n",
      "#---- m1mpP ----\n",
      "\n",
      "## Sum = ImagNegSign, Orientation = PARA_0 ##\n",
      "amplitude omegapi::ImagNegSign::m1mpP Vec_ps_refl 1 1 1 -1 -1 0 0.3519 omega3pi \n",
      "initialize omegapi::ImagNegSign::m1mpP cartesian -8.717243213 -10.49946785\n",
      "## Sum = RealPosSign, Orientation = PARA_0 ##\n",
      "amplitude omegapi::RealPosSign::m1mpP Vec_ps_refl 1 1 1 1 1 0 0.3519 omega3pi \n",
      "initialize omegapi::RealPosSign::m1mpP cartesian -8.717243213 -10.49946785\n",
      "\n",
      "constrain omegapi::ImagNegSign::m1mpP omegapi::RealPosSign::m1mpP \n",
      "\n",
      "#---- p1mmP ----\n",
      "\n",
      "## Sum = ImagPosSign, Orientation = PARA_0 ##\n",
      "amplitude omegapi::ImagPosSign::p1mmP Vec_ps_refl 1 -1 1 -1 1 0 0.3519 omega3pi \n",
      "initialize omegapi::ImagPosSign::p1mmP cartesian 26.39577689 16.44639696\n",
      "## Sum = RealNegSign, Orientation = PARA_0 ##\n",
      "amplitude omegapi::RealNegSign::p1mmP Vec_ps_refl 1 -1 1 1 -1 0 0.3519 omega3pi \n",
      "initialize omegapi::RealNegSign::p1mmP cartesian 26.39577689 16.44639696\n",
      "\n",
      "constrain omegapi::ImagPosSign::p1mmP omegapi::RealNegSign::p1mmP \n",
      "\n",
      "#---- p1m0P ----\n",
      "\n",
      "## Sum = ImagPosSign, Orientation = PARA_0 ##\n",
      "amplitude omegapi::ImagPosSign::p1m0P Vec_ps_refl 1 0 1 -1 1 0 0.3519 omega3pi \n",
      "initialize omegapi::ImagPosSign::p1m0P cartesian -36.62732423 -44.14393265\n",
      "## Sum = RealNegSign, Orientation = PARA_0 ##\n",
      "amplitude omegapi::RealNegSign::p1m0P Vec_ps_refl 1 0 1 1 -1 0 0.3519 omega3pi \n",
      "initialize omegapi::RealNegSign::p1m0P cartesian -36.62732423 -44.14393265\n",
      "\n",
      "constrain omegapi::ImagPosSign::p1m0P omegapi::RealNegSign::p1m0P \n",
      "\n",
      "#---- p1mpP ----\n",
      "\n",
      "## Sum = ImagPosSign, Orientation = PARA_0 ##\n",
      "amplitude omegapi::ImagPosSign::p1mpP Vec_ps_refl 1 1 1 -1 1 0 0.3519 omega3pi \n",
      "initialize omegapi::ImagPosSign::p1mpP cartesian 318.2991877 241.0345984\n",
      "## Sum = RealNegSign, Orientation = PARA_0 ##\n",
      "amplitude omegapi::RealNegSign::p1mpP Vec_ps_refl 1 1 1 1 -1 0 0.3519 omega3pi \n",
      "initialize omegapi::RealNegSign::p1mpP cartesian 318.2991877 241.0345984\n",
      "\n",
      "constrain omegapi::ImagPosSign::p1mpP omegapi::RealNegSign::p1mpP \n",
      "\n",
      "######## isotropic background ########\n",
      "amplitude omegapi::Bkgd::isotropic Uniform\n",
      "initialize omegapi::Bkgd::isotropic cartesian 0 0"
     ]
    }
   ],
   "source": [
    "%%bash\n",
    "cat $STUDY_DIR/cfg_files/amplitudes.cfg"
   ]
  },
  {
   "cell_type": "code",
   "execution_count": 4,
   "id": "836c00d1",
   "metadata": {},
   "outputs": [
    {
     "name": "stdout",
     "output_type": "stream",
     "text": [
      "data exists, skipping generation.\n"
     ]
    }
   ],
   "source": [
    "%%bash \n",
    "if [ -e \"${STUDY_DIR}/data/root_files/data.root\" ]; then\n",
    "    echo \"data exists, skipping generation.\"\n",
    "else \n",
    "    echo \"Generating data...\"\n",
    "    gen_vec_ps -c ${STUDY_DIR}/cfg_files/amplitudes.cfg\\\n",
    "        -o ${STUDY_DIR}/data/root_files/data.root\\\n",
    "        -l 1.20 -u 1.22\\\n",
    "        -n 50000\\\n",
    "        -a 8.2 -b 8.8\\\n",
    "        -tmin 0.1 -tmax 0.2\n",
    "    if [ -e \"${STUDY_DIR}/data/root_files/data.root\" ]; then\n",
    "        echo \"Data generation successful.\"\n",
    "    else\n",
    "        echo \"Data generation failed.\"\n",
    "        exit 1\n",
    "    fi\n",
    "fi"
   ]
  },
  {
   "cell_type": "code",
   "execution_count": 5,
   "id": "11c6bea6",
   "metadata": {},
   "outputs": [
    {
     "name": "stdout",
     "output_type": "stream",
     "text": [
      "Checking if all input files exist...\n",
      "Temp file created at /scratch/kscheuer/tmppk_ugjdm\n",
      "Running command: ['extract_bin_info', '/scratch/kscheuer/tmppk_ugjdm', '/w/halld-scshelf2101/kscheuer/neutralb1/studies/input-output-tests/verify-moment/data/csv_files/data.csv', 'M4Pi']\n",
      "Process completed successfully\n"
     ]
    }
   ],
   "source": [
    "%%bash\n",
    "python $WORKSPACE_DIR/src/neutralb1/batch/convert_to_csv.py\\\n",
    "    -i $STUDY_DIR/data/root_files/gen_vec_ps_diagnostic.root -o $STUDY_DIR/data/csv_files/data.csv"
   ]
  },
  {
   "cell_type": "markdown",
   "id": "75d7e379",
   "metadata": {},
   "source": [
    "### Fitting"
   ]
  },
  {
   "cell_type": "markdown",
   "id": "7a160fc5",
   "metadata": {},
   "source": [
    "#### Truth Generation\n",
    "To compare our later amplitude results to the true values, we need to perform a \"truth fit\" by fixing the production coefficients in a `.cfg` file to the same values we used to generate the MC with. Since these values are sensitive to the total number of events, we multiply all the fixed amplitudes by a common `intensity_scale` factor to adjust them properly"
   ]
  },
  {
   "cell_type": "code",
   "execution_count": 6,
   "id": "f08991f2",
   "metadata": {},
   "outputs": [
    {
     "name": "stdout",
     "output_type": "stream",
     "text": [
      "# This cfg file is to fit the MC generated with this waveset with the exact same fixed\n",
      "# values. An intensity scaling factor is applied to all amplitudes to allow for the \n",
      "# production coefficients to adjust to the number of events. The output of this fit\n",
      "# provides the \"truth\" information that the randomized fits should converge to\n",
      "\n",
      "\n",
      "# generator-level configuration parameters\n",
      "define vector 0.782 0.008\n",
      "define beamconfig beam.cfg\n",
      "\n",
      "# fit setup\n",
      "fit omegapi\n",
      "normintfile omegapi omegapi.ni\n",
      "reaction omegapi Beam Proton Pi01 Pi02 Pi+ Pi-\n",
      "sum omegapi ImagNegSign RealNegSign RealPosSign ImagPosSign Bkgd\n",
      "\n",
      "# load in data and phasespace (gen == acc in this case)\n",
      "genmc omegapi ROOTDataReader anglesOmegaPiPhaseSpace.root \n",
      "accmc omegapi ROOTDataReader anglesOmegaPiPhaseSpaceAcc.root\n",
      "data omegapi ROOTDataReader data.root\n",
      "\n",
      "# since all amplitudes are fixed, this adjusts the overall intensity scaling\n",
      "parameter intensity_scale 1.0  \n",
      "\n",
      "######## AMPLITUDES ########\n",
      "#---- m1pmS ----\n",
      "\n",
      "## Sum = ImagNegSign, Orientation = PARA_0 ##\n",
      "amplitude omegapi::ImagNegSign::m1pmS Vec_ps_refl 1 -1 0 -1 -1 0 0.3519 omega3pi\n",
      "initialize omegapi::ImagNegSign::m1pmS cartesian 32.18638792 -22.31468862 fixed\n",
      "scale omegapi::ImagNegSign::m1pmS [intensity_scale]\n",
      "## Sum = RealPosSign, Orientation = PARA_0 ##\n",
      "amplitude omegapi::RealPosSign::m1pmS Vec_ps_refl 1 -1 0 1 1 0 0.3519 omega3pi \n",
      "initialize omegapi::RealPosSign::m1pmS cartesian 32.18638792 -22.31468862 fixed\n",
      "scale omegapi::RealPosSign::m1pmS [intensity_scale]\n",
      "\n",
      "constrain omegapi::ImagNegSign::m1pmS omegapi::RealPosSign::m1pmS\n",
      "\n",
      "#---- m1pmD ----\n",
      "\n",
      "## Sum = ImagNegSign, Orientation = PARA_0 ##\n",
      "amplitude omegapi::ImagNegSign::m1pmD Vec_ps_refl 1 -1 2 -1 -1 0 0.3519 omega3pi \n",
      "initialize omegapi::ImagNegSign::m1pmD cartesian -85.45846867 -33.60548763 fixed\n",
      "scale omegapi::ImagNegSign::m1pmD [intensity_scale]\n",
      "## Sum = RealPosSign, Orientation = PARA_0 ##\n",
      "amplitude omegapi::RealPosSign::m1pmD Vec_ps_refl 1 -1 2 1 1 0 0.3519 omega3pi \n",
      "initialize omegapi::RealPosSign::m1pmD cartesian -85.45846867 -33.60548763 fixed\n",
      "scale omegapi::RealPosSign::m1pmD [intensity_scale]\n",
      "\n",
      "constrain omegapi::ImagNegSign::m1pmD omegapi::RealPosSign::m1pmD \n",
      "\n",
      "#---- m1p0S ----\n",
      "\n",
      "## Sum = ImagNegSign, Orientation = PARA_0 ##\n",
      "amplitude omegapi::ImagNegSign::m1p0S Vec_ps_refl 1 0 0 -1 -1 0 0.3519 omega3pi \n",
      "initialize omegapi::ImagNegSign::m1p0S cartesian -17.95429149 -49.76979288 fixed\n",
      "scale omegapi::ImagNegSign::m1p0S [intensity_scale]\n",
      "## Sum = RealPosSign, Orientation = PARA_0 ##\n",
      "amplitude omegapi::RealPosSign::m1p0S Vec_ps_refl 1 0 0 1 1 0 0.3519 omega3pi \n",
      "initialize omegapi::RealPosSign::m1p0S cartesian -17.95429149 -49.76979288 fixed\n",
      "scale omegapi::RealPosSign::m1p0S [intensity_scale]\n",
      "\n",
      "constrain omegapi::ImagNegSign::m1p0S omegapi::RealPosSign::m1p0S \n",
      "\n",
      "#---- m1p0D ----\n",
      "\n",
      "## Sum = ImagNegSign, Orientation = PARA_0 ##\n",
      "amplitude omegapi::ImagNegSign::m1p0D Vec_ps_refl 1 0 2 -1 -1 0 0.3519 omega3pi \n",
      "initialize omegapi::ImagNegSign::m1p0D cartesian 55.34890297 -26.21975025 fixed\n",
      "scale omegapi::ImagNegSign::m1p0D [intensity_scale]\n",
      "## Sum = RealPosSign, Orientation = PARA_0 ##\n",
      "amplitude omegapi::RealPosSign::m1p0D Vec_ps_refl 1 0 2 1 1 0 0.3519 omega3pi \n",
      "initialize omegapi::RealPosSign::m1p0D cartesian 55.34890297 -26.21975025 fixed\n",
      "scale omegapi::RealPosSign::m1p0D [intensity_scale]\n",
      "\n",
      "constrain omegapi::ImagNegSign::m1p0D omegapi::RealPosSign::m1p0D \n",
      "\n",
      "#---- m1ppS ----\n",
      "\n",
      "## Sum = ImagNegSign, Orientation = PARA_0 ##\n",
      "amplitude omegapi::ImagNegSign::m1ppS Vec_ps_refl 1 1 0 -1 -1 0 0.3519 omega3pi \n",
      "initialize omegapi::ImagNegSign::m1ppS cartesian -9.899249989 -2.037668855 fixed\n",
      "scale omegapi::ImagNegSign::m1ppS [intensity_scale]\n",
      "## Sum = RealPosSign, Orientation = PARA_0 ##\n",
      "amplitude omegapi::RealPosSign::m1ppS Vec_ps_refl 1 1 0 1 1 0 0.3519 omega3pi \n",
      "initialize omegapi::RealPosSign::m1ppS cartesian -9.899249989 -2.037668855 fixed\n",
      "scale omegapi::RealPosSign::m1ppS [intensity_scale]\n",
      "\n",
      "constrain omegapi::ImagNegSign::m1ppS omegapi::RealPosSign::m1ppS \n",
      "\n",
      "#---- m1ppD ----\n",
      "\n",
      "## Sum = ImagNegSign, Orientation = PARA_0 ##\n",
      "amplitude omegapi::ImagNegSign::m1ppD Vec_ps_refl 1 1 2 -1 -1 0 0.3519 omega3pi \n",
      "initialize omegapi::ImagNegSign::m1ppD cartesian 93.94713738 12.66696942 fixed\n",
      "scale omegapi::ImagNegSign::m1ppD [intensity_scale]\n",
      "## Sum = RealPosSign, Orientation = PARA_0 ##\n",
      "amplitude omegapi::RealPosSign::m1ppD Vec_ps_refl 1 1 2 1 1 0 0.3519 omega3pi \n",
      "initialize omegapi::RealPosSign::m1ppD cartesian 93.94713738 12.66696942 fixed\n",
      "scale omegapi::RealPosSign::m1ppD [intensity_scale]\n",
      "\n",
      "constrain omegapi::ImagNegSign::m1ppD omegapi::RealPosSign::m1ppD \n",
      "\n",
      "#---- p1pmS ----\n",
      "\n",
      "## Sum = ImagPosSign, Orientation = PARA_0 ##\n",
      "amplitude omegapi::ImagPosSign::p1pmS Vec_ps_refl 1 -1 0 -1 1 0 0.3519 omega3pi \n",
      "initialize omegapi::ImagPosSign::p1pmS cartesian -88.73887922 -169.4728037 fixed\n",
      "scale omegapi::ImagPosSign::p1pmS [intensity_scale]\n",
      "## Sum = RealNegSign, Orientation = PARA_0 ##\n",
      "amplitude omegapi::RealNegSign::p1pmS Vec_ps_refl 1 -1 0 1 -1 0 0.3519 omega3pi \n",
      "initialize omegapi::RealNegSign::p1pmS cartesian -88.73887922 -169.4728037 fixed\n",
      "scale omegapi::RealNegSign::p1pmS [intensity_scale]\n",
      "\n",
      "constrain omegapi::ImagPosSign::p1pmS omegapi::RealNegSign::p1pmS \n",
      "\n",
      "#---- p1pmD ----\n",
      "\n",
      "## Sum = ImagPosSign, Orientation = PARA_0 ##\n",
      "amplitude omegapi::ImagPosSign::p1pmD Vec_ps_refl 1 -1 2 -1 1 0 0.3519 omega3pi \n",
      "initialize omegapi::ImagPosSign::p1pmD cartesian -73.81994314 -30.81116196 fixed\n",
      "scale omegapi::ImagPosSign::p1pmD [intensity_scale]\n",
      "## Sum = RealNegSign, Orientation = PARA_0 ##\n",
      "amplitude omegapi::RealNegSign::p1pmD Vec_ps_refl 1 -1 2 1 -1 0 0.3519 omega3pi \n",
      "initialize omegapi::RealNegSign::p1pmD cartesian -73.81994314 -30.81116196 fixed\n",
      "scale omegapi::RealNegSign::p1pmD [intensity_scale]\n",
      "\n",
      "constrain omegapi::ImagPosSign::p1pmD omegapi::RealNegSign::p1pmD \n",
      "\n",
      "#---- p1p0S ----\n",
      "\n",
      "## Sum = ImagPosSign, Orientation = PARA_0 ##\n",
      "amplitude omegapi::ImagPosSign::p1p0S Vec_ps_refl 1 0 0 -1 1 0 0.3519 omega3pi \n",
      "initialize omegapi::ImagPosSign::p1p0S cartesian 220.239997 610.5113667 fixed\n",
      "scale omegapi::ImagPosSign::p1p0S [intensity_scale]\n",
      "## Sum = RealNegSign, Orientation = PARA_0 ##\n",
      "amplitude omegapi::RealNegSign::p1p0S Vec_ps_refl 1 0 0 1 -1 0 0.3519 omega3pi \n",
      "initialize omegapi::RealNegSign::p1p0S cartesian 220.239997 610.5113667 fixed\n",
      "scale omegapi::RealNegSign::p1p0S [intensity_scale]\n",
      "\n",
      "constrain omegapi::ImagPosSign::p1p0S omegapi::RealNegSign::p1p0S \n",
      "\n",
      "#---- p1p0D ----\n",
      "\n",
      "## Sum = ImagPosSign, Orientation = PARA_0 ##\n",
      "amplitude omegapi::ImagPosSign::p1p0D Vec_ps_refl 1 0 2 -1 1 0 0.3519 omega3pi \n",
      "initialize omegapi::ImagPosSign::p1p0D cartesian 104.1761938 370.4579388 fixed\n",
      "scale omegapi::ImagPosSign::p1p0D [intensity_scale]\n",
      "## Sum = RealNegSign, Orientation = PARA_0 ##\n",
      "amplitude omegapi::RealNegSign::p1p0D Vec_ps_refl 1 0 2 1 -1 0 0.3519 omega3pi \n",
      "initialize omegapi::RealNegSign::p1p0D cartesian 104.1761938 370.4579388 fixed\n",
      "scale omegapi::RealNegSign::p1p0D [intensity_scale]\n",
      "\n",
      "constrain omegapi::ImagPosSign::p1p0D omegapi::RealNegSign::p1p0D \n",
      "\n",
      "#---- p1ppS ----\n",
      "\n",
      "## Sum = ImagPosSign, Orientation = PARA_0 ##\n",
      "amplitude omegapi::ImagPosSign::p1ppS Vec_ps_refl 1 1 0 -1 1 0 0.3519 omega3pi \n",
      "initialize omegapi::ImagPosSign::p1ppS cartesian -452.9434494 -255.9519185 fixed\n",
      "scale omegapi::ImagPosSign::p1ppS [intensity_scale]\n",
      "## Sum = RealNegSign, Orientation = PARA_0 ##\n",
      "amplitude omegapi::RealNegSign::p1ppS Vec_ps_refl 1 1 0 1 -1 0 0.3519 omega3pi \n",
      "initialize omegapi::RealNegSign::p1ppS cartesian -452.9434494 -255.9519185 fixed\n",
      "scale omegapi::RealNegSign::p1ppS [intensity_scale]\n",
      "\n",
      "constrain omegapi::ImagPosSign::p1ppS omegapi::RealNegSign::p1ppS \n",
      "\n",
      "#---- p1ppD ----\n",
      "\n",
      "## Sum = ImagPosSign, Orientation = PARA_0 ##\n",
      "amplitude omegapi::ImagPosSign::p1ppD Vec_ps_refl 1 1 2 -1 1 0 0.3519 omega3pi \n",
      "initialize omegapi::ImagPosSign::p1ppD cartesian -259.2973173 -216.4186967 fixed\n",
      "scale omegapi::ImagPosSign::p1ppD [intensity_scale]\n",
      "## Sum = RealNegSign, Orientation = PARA_0 ##\n",
      "amplitude omegapi::RealNegSign::p1ppD Vec_ps_refl 1 1 2 1 -1 0 0.3519 omega3pi \n",
      "initialize omegapi::RealNegSign::p1ppD cartesian -259.2973173 -216.4186967 fixed\n",
      "scale omegapi::RealNegSign::p1ppD [intensity_scale]\n",
      "\n",
      "constrain omegapi::ImagPosSign::p1ppD omegapi::RealNegSign::p1ppD \n",
      "\n",
      "#---- m1mmP ----\n",
      "\n",
      "## Sum = ImagNegSign, Orientation = PARA_0 ##\n",
      "amplitude omegapi::RealPosSign::m1mmP Vec_ps_refl 1 -1 1 -1 -1 0 0.3519 omega3pi \n",
      "initialize omegapi::RealPosSign::m1mmP cartesian 2.898050437 -24.61824224 fixed\n",
      "scale omegapi::RealPosSign::m1mmP [intensity_scale]\n",
      "## Sum = RealPosSign, Orientation = PARA_0 ##\n",
      "amplitude omegapi::ImagNegSign::m1mmP Vec_ps_refl 1 -1 1 1 1 0 0.3519 omega3pi \n",
      "initialize omegapi::ImagNegSign::m1mmP cartesian 2.898050437 -24.61824224 fixed\n",
      "scale omegapi::ImagNegSign::m1mmP [intensity_scale]\n",
      "\n",
      "constrain omegapi::ImagNegSign::m1mmP omegapi::RealPosSign::m1mmP \n",
      "\n",
      "#---- m1m0P ----\n",
      "\n",
      "## Sum = ImagNegSign, Orientation = PARA_0 ##\n",
      "amplitude omegapi::ImagNegSign::m1m0P Vec_ps_refl 1 0 1 -1 -1 0 0.3519 omega3pi \n",
      "initialize omegapi::ImagNegSign::m1m0P cartesian 2.455134493 -1.716043364 fixed\n",
      "scale omegapi::ImagNegSign::m1m0P [intensity_scale]\n",
      "## Sum = RealPosSign, Orientation = PARA_0 ##\n",
      "amplitude omegapi::RealPosSign::m1m0P Vec_ps_refl 1 0 1 1 1 0 0.3519 omega3pi \n",
      "initialize omegapi::RealPosSign::m1m0P cartesian 2.455134493 -1.716043364 fixed\n",
      "scale omegapi::RealPosSign::m1m0P [intensity_scale]\n",
      "\n",
      "constrain omegapi::ImagNegSign::m1m0P omegapi::RealPosSign::m1m0P \n",
      "\n",
      "#---- m1mpP ----\n",
      "\n",
      "## Sum = ImagNegSign, Orientation = PARA_0 ##\n",
      "amplitude omegapi::ImagNegSign::m1mpP Vec_ps_refl 1 1 1 -1 -1 0 0.3519 omega3pi \n",
      "initialize omegapi::ImagNegSign::m1mpP cartesian -8.717243213 -10.49946785 fixed\n",
      "scale omegapi::ImagNegSign::m1mpP [intensity_scale]\n",
      "## Sum = RealPosSign, Orientation = PARA_0 ##\n",
      "amplitude omegapi::RealPosSign::m1mpP Vec_ps_refl 1 1 1 1 1 0 0.3519 omega3pi \n",
      "initialize omegapi::RealPosSign::m1mpP cartesian -8.717243213 -10.49946785 fixed\n",
      "scale omegapi::RealPosSign::m1mpP [intensity_scale]\n",
      "\n",
      "constrain omegapi::ImagNegSign::m1mpP omegapi::RealPosSign::m1mpP \n",
      "\n",
      "#---- p1mmP ----\n",
      "\n",
      "## Sum = ImagPosSign, Orientation = PARA_0 ##\n",
      "amplitude omegapi::ImagPosSign::p1mmP Vec_ps_refl 1 -1 1 -1 1 0 0.3519 omega3pi \n",
      "initialize omegapi::ImagPosSign::p1mmP cartesian 26.39577689 16.44639696 fixed\n",
      "scale omegapi::ImagPosSign::p1mmP [intensity_scale]\n",
      "## Sum = RealNegSign, Orientation = PARA_0 ##\n",
      "amplitude omegapi::RealNegSign::p1mmP Vec_ps_refl 1 -1 1 1 -1 0 0.3519 omega3pi \n",
      "initialize omegapi::RealNegSign::p1mmP cartesian 26.39577689 16.44639696 fixed\n",
      "scale omegapi::RealNegSign::p1mmP [intensity_scale]\n",
      "\n",
      "constrain omegapi::ImagPosSign::p1mmP omegapi::RealNegSign::p1mmP \n",
      "\n",
      "#---- p1m0P ----\n",
      "\n",
      "## Sum = ImagPosSign, Orientation = PARA_0 ##\n",
      "amplitude omegapi::ImagPosSign::p1m0P Vec_ps_refl 1 0 1 -1 1 0 0.3519 omega3pi \n",
      "initialize omegapi::ImagPosSign::p1m0P cartesian -36.62732423 -44.14393265 fixed\n",
      "scale omegapi::ImagPosSign::p1m0P [intensity_scale]\n",
      "## Sum = RealNegSign, Orientation = PARA_0 ##\n",
      "amplitude omegapi::RealNegSign::p1m0P Vec_ps_refl 1 0 1 1 -1 0 0.3519 omega3pi \n",
      "initialize omegapi::RealNegSign::p1m0P cartesian -36.62732423 -44.14393265 fixed\n",
      "scale omegapi::RealNegSign::p1m0P [intensity_scale]\n",
      "\n",
      "constrain omegapi::ImagPosSign::p1m0P omegapi::RealNegSign::p1m0P \n",
      "\n",
      "#---- p1mpP ----\n",
      "\n",
      "## Sum = ImagPosSign, Orientation = PARA_0 ##\n",
      "amplitude omegapi::ImagPosSign::p1mpP Vec_ps_refl 1 1 1 -1 1 0 0.3519 omega3pi \n",
      "initialize omegapi::ImagPosSign::p1mpP cartesian 318.2991877 241.0345984 fixed\n",
      "scale omegapi::ImagPosSign::p1mpP [intensity_scale]\n",
      "## Sum = RealNegSign, Orientation = PARA_0 ##\n",
      "amplitude omegapi::RealNegSign::p1mpP Vec_ps_refl 1 1 1 1 -1 0 0.3519 omega3pi \n",
      "initialize omegapi::RealNegSign::p1mpP cartesian 318.2991877 241.0345984 fixed\n",
      "scale omegapi::RealNegSign::p1mpP [intensity_scale]\n",
      "\n",
      "constrain omegapi::ImagPosSign::p1mpP omegapi::RealNegSign::p1mpP \n",
      "\n",
      "######## isotropic background ########\n",
      "amplitude omegapi::Bkgd::isotropic Uniform\n",
      "initialize omegapi::Bkgd::isotropic cartesian 0 0 fixed\n",
      "scale omegapi::Bkgd::isotropic [intensity_scale]"
     ]
    }
   ],
   "source": [
    "%%bash\n",
    "cat $STUDY_DIR/cfg_files/truth.cfg"
   ]
  },
  {
   "cell_type": "markdown",
   "id": "ac62da5a",
   "metadata": {},
   "source": [
    "Only a single fit needs to be performed, which we can easily do here. There's no need to produce angular distribution plots since we know they will match by construction"
   ]
  },
  {
   "cell_type": "code",
   "execution_count": 7,
   "id": "b4d339ca",
   "metadata": {},
   "outputs": [
    {
     "name": "stdout",
     "output_type": "stream",
     "text": [
      "Truth fit already exists, skipping.\n"
     ]
    }
   ],
   "source": [
    "%%bash\n",
    "cd $TRUTH_DIR\n",
    "\n",
    "# symlink to data and phasespace files\n",
    "ln -sf $STUDY_DIR/data/root_files/data.root ./data.root\n",
    "ln -sf ${STUDY_DIR}/data/root_files/anglesOmegaPiPhaseSpace.root ./anglesOmegaPiPhaseSpace.root\n",
    "ln -sf ${STUDY_DIR}/data/root_files/anglesOmegaPiPhaseSpaceAcc.root ./anglesOmegaPiPhaseSpaceAcc.root\n",
    "\n",
    "if [ -e ./omegapi.fit ]; then\n",
    "    echo \"Truth fit already exists, skipping.\"\n",
    "else\n",
    "    echo \"Running truth fit...\"\n",
    "    fit -c ${STUDY_DIR}/cfg_files/truth.cfg > truth_fit.log\n",
    "    if [ -e ./omegapi.fit ]; then\n",
    "        echo \"Truth fit successful.\"\n",
    "    else\n",
    "        echo \"Truth fit failed.\"        \n",
    "    fi\n",
    "fi"
   ]
  },
  {
   "cell_type": "code",
   "execution_count": 8,
   "id": "6950a898",
   "metadata": {},
   "outputs": [
    {
     "name": "stdout",
     "output_type": "stream",
     "text": [
      "Checking if all input files exist...\n",
      "Temp file created at /scratch/kscheuer/tmptlx0labs\n",
      "Running command: ['extract_fit_results', '/scratch/kscheuer/tmptlx0labs', '/w/halld-scshelf2101/kscheuer/neutralb1/studies/input-output-tests/verify-moment/data/csv_files/truth.csv', '0']\n",
      "Process completed successfully\n"
     ]
    }
   ],
   "source": [
    "%%bash\n",
    "\n",
    "cd $TRUTH_DIR\n",
    "python $WORKSPACE_DIR/src/neutralb1/batch/convert_to_csv.py\\\n",
    "    -i omegapi.fit -o $STUDY_DIR/data/csv_files/truth.csv"
   ]
  },
  {
   "cell_type": "markdown",
   "id": "0fffe717",
   "metadata": {},
   "source": [
    "#### Amplitudes\n",
    "Amplitude fits will require a GPU session due to their performance requirements"
   ]
  },
  {
   "cell_type": "code",
   "execution_count": 9,
   "id": "eb5abf54",
   "metadata": {},
   "outputs": [
    {
     "name": "stdout",
     "output_type": "stream",
     "text": [
      "Amplitude results exist, skipping fitting.\n"
     ]
    }
   ],
   "source": [
    "%%bash\n",
    "if [ -e \"${AMP_DIR}/omegapi.fit\" ]; then\n",
    "    echo \"Amplitude results exist, skipping fitting.\"\n",
    "else\n",
    "    echo \"Run 'fit -c ${STUDY_DIR}/cfg_files/amplitudes.cfg -m 10000000 -r 50 > amplitude_fit.log' on an interactive GPU node to fit the data.\"\n",
    "fi"
   ]
  },
  {
   "cell_type": "markdown",
   "id": "59d85dd2",
   "metadata": {},
   "source": [
    "Once fits are complete, generate files to view the angular distributions for the vecps_plotter"
   ]
  },
  {
   "cell_type": "code",
   "execution_count": 10,
   "id": "5f4c6ab8",
   "metadata": {},
   "outputs": [
    {
     "name": "stdout",
     "output_type": "stream",
     "text": [
      "Plotter output already exists, skipping plotting.\n"
     ]
    }
   ],
   "source": [
    "%%bash\n",
    "\n",
    "cd ${AMP_DIR}\n",
    "\n",
    "# create symlinks so the vecps_plotter can find the data/phasespace files\n",
    "ln -sf ${STUDY_DIR}/data/root_files/data.root ./data.root\n",
    "ln -sf ${STUDY_DIR}/data/root_files/anglesOmegaPiPhaseSpace.root ./anglesOmegaPiPhaseSpace.root\n",
    "ln -sf ${STUDY_DIR}/data/root_files/anglesOmegaPiPhaseSpaceAcc.root ./anglesOmegaPiPhaseSpaceAcc.root\n",
    "\n",
    "if [ -e ./vecps_plot.root ]; then\n",
    "    echo \"Plotter output already exists, skipping plotting.\"\n",
    "else\n",
    "    echo \"Plotting results...\"\n",
    "    vecps_plotter ./omegapi.fit\n",
    "    angle_plotter ./vecps_plot.root \"Thrown MC\" \"\" ${AMP_DIR} --gluex-style\n",
    "fi"
   ]
  },
  {
   "cell_type": "code",
   "execution_count": 11,
   "id": "5e0d4dcc",
   "metadata": {},
   "outputs": [
    {
     "data": {
      "image/png": "[encoded data removed]",
      "text/plain": [
       "<IPython.core.display.Image object>"
      ]
     },
     "metadata": {},
     "output_type": "display_data"
    }
   ],
   "source": [
    "utils.display_pdf(f\"{AMP_DIR}/fit.pdf\")"
   ]
  },
  {
   "cell_type": "markdown",
   "id": "3b3b87d7",
   "metadata": {},
   "source": [
    "Convert the fit output to csv files"
   ]
  },
  {
   "cell_type": "code",
   "execution_count": 12,
   "id": "c6210942",
   "metadata": {},
   "outputs": [
    {
     "name": "stdout",
     "output_type": "stream",
     "text": [
      "Checking if all input files exist...\n",
      "Temp file created at /scratch/kscheuer/tmp5r3kmh5i\n",
      "Running command: ['extract_fit_results', '/scratch/kscheuer/tmp5r3kmh5i', '/w/halld-scshelf2101/kscheuer/neutralb1/studies/input-output-tests/verify-moment/data/csv_files/amplitude_result.csv', '0']\n",
      "Process completed successfully\n",
      "Checking if all input files exist...\n",
      "Temp file created at /scratch/kscheuer/tmpxky0ykqi\n",
      "Running command: ['project_moments', '/scratch/kscheuer/tmpxky0ykqi', '/w/halld-scshelf2101/kscheuer/neutralb1/studies/input-output-tests/verify-moment/data/csv_files/projected_moments.csv']\n",
      "Process completed successfully\n"
     ]
    }
   ],
   "source": [
    "%%bash\n",
    "\n",
    "cd ${AMP_DIR}\n",
    "python $WORKSPACE_DIR/src/neutralb1/batch/convert_to_csv.py\\\n",
    "    -i omegapi.fit -o  $STUDY_DIR/data/csv_files/amplitude_result.csv\n",
    "python $WORKSPACE_DIR/src/neutralb1/batch/convert_to_csv.py\\\n",
    "    -i omegapi.fit -o $STUDY_DIR/data/csv_files/projected_moments.csv --moments"
   ]
  },
  {
   "cell_type": "markdown",
   "id": "2c42b858",
   "metadata": {},
   "source": [
    "#### Moments"
   ]
  },
  {
   "cell_type": "markdown",
   "id": "53722ec4",
   "metadata": {},
   "source": [
    "Same process as the amplitude fits"
   ]
  },
  {
   "cell_type": "code",
   "execution_count": 13,
   "id": "b05d35cf",
   "metadata": {},
   "outputs": [
    {
     "name": "stdout",
     "output_type": "stream",
     "text": [
      "# This cfg file is for fitting moments to an amplitude-generated dataset\n",
      "\n",
      "# The H0_0000 moment is initialized to the number of events in the dataset, which is\n",
      "# the only moment that is not randomized. All other moments are randomly initialized\n",
      "# between +/- 1% of the number of events in the dataset. The set of moments used here\n",
      "# corresponds to the moments of an S,P,D waveset.\n",
      "\n",
      "###### SETUP ######\n",
      "fit omegapi\n",
      "sum omegapi vecPSMoment\n",
      "normintfile omegapi omegapi.ni\n",
      "\n",
      "reaction omegapi Beam Proton Pi01 Pi02 Pi+ Pi-\n",
      "genmc omegapi ROOTDataReader anglesOmegaPiPhaseSpace.root\n",
      "accmc omegapi ROOTDataReader anglesOmegaPiPhaseSpaceAcc.root\n",
      "data omegapi ROOTDataReader data.root\n",
      "\n",
      "# setup the parRange ability so that we can randomize the moments\n",
      "keyword parRange 3 3\n",
      "\n",
      "# Moment parameters\n",
      "parameter H0_0000 50000\n",
      "parameter H0_0010 0.0 \n",
      "parameter H0_0011 0.0\n",
      "parameter H0_0020 0.0\n",
      "parameter H0_0021 0.0\n",
      "parameter H0_0022 0.0\n",
      "parameter H0_2000 0.0\n",
      "parameter H0_2010 0.0\n",
      "parameter H0_2011 0.0\n",
      "parameter H0_2020 0.0\n",
      "parameter H0_2021 0.0\n",
      "parameter H0_2022 0.0\n",
      "parameter H0_2110 0.0\n",
      "parameter H0_2111 0.0\n",
      "parameter H0_2120 0.0\n",
      "parameter H0_2121 0.0\n",
      "parameter H0_2122 0.0\n",
      "parameter H0_2220 0.0\n",
      "parameter H0_2221 0.0\n",
      "parameter H0_2222 0.0\n",
      "parameter H1_0000 0.0\n",
      "parameter H1_0010 0.0\n",
      "parameter H1_0011 0.0\n",
      "parameter H1_0020 0.0\n",
      "parameter H1_0021 0.0\n",
      "parameter H1_0022 0.0\n",
      "parameter H1_2000 0.0\n",
      "parameter H1_2010 0.0\n",
      "parameter H1_2011 0.0\n",
      "parameter H1_2020 0.0\n",
      "parameter H1_2021 0.0\n",
      "parameter H1_2022 0.0\n",
      "parameter H1_2110 0.0\n",
      "parameter H1_2111 0.0\n",
      "parameter H1_2120 0.0\n",
      "parameter H1_2121 0.0\n",
      "parameter H1_2122 0.0\n",
      "parameter H1_2220 0.0\n",
      "parameter H1_2221 0.0\n",
      "parameter H1_2222 0.0\n",
      "parameter H2_0011 0.0\n",
      "parameter H2_0021 0.0\n",
      "parameter H2_0022 0.0\n",
      "parameter H2_2011 0.0\n",
      "parameter H2_2021 0.0\n",
      "parameter H2_2022 0.0\n",
      "parameter H2_2110 0.0\n",
      "parameter H2_2111 0.0\n",
      "parameter H2_2120 0.0\n",
      "parameter H2_2121 0.0\n",
      "parameter H2_2122 0.0\n",
      "parameter H2_2220 0.0\n",
      "parameter H2_2221 0.0\n",
      "parameter H2_2222 0.0\n",
      "\n",
      "# randomize the moments between +/- 1% of the number of events\n",
      "parRange H0_0010 -500 500\n",
      "parRange H0_0011 -500 500\n",
      "parRange H0_0020 -500 500\n",
      "parRange H0_0021 -500 500\n",
      "parRange H0_0022 -500 500\n",
      "parRange H0_2000 -500 500\n",
      "parRange H0_2010 -500 500\n",
      "parRange H0_2011 -500 500\n",
      "parRange H0_2020 -500 500\n",
      "parRange H0_2021 -500 500\n",
      "parRange H0_2022 -500 500\n",
      "parRange H0_2110 -500 500\n",
      "parRange H0_2111 -500 500\n",
      "parRange H0_2120 -500 500\n",
      "parRange H0_2121 -500 500\n",
      "parRange H0_2122 -500 500\n",
      "parRange H0_2220 -500 500\n",
      "parRange H0_2221 -500 500\n",
      "parRange H0_2222 -500 500\n",
      "parRange H1_0000 -500 500\n",
      "parRange H1_0010 -500 500\n",
      "parRange H1_0011 -500 500\n",
      "parRange H1_0020 -500 500\n",
      "parRange H1_0021 -500 500\n",
      "parRange H1_0022 -500 500\n",
      "parRange H1_2000 -500 500\n",
      "parRange H1_2010 -500 500\n",
      "parRange H1_2011 -500 500\n",
      "parRange H1_2020 -500 500\n",
      "parRange H1_2021 -500 500\n",
      "parRange H1_2022 -500 500\n",
      "parRange H1_2110 -500 500\n",
      "parRange H1_2111 -500 500\n",
      "parRange H1_2120 -500 500\n",
      "parRange H1_2121 -500 500\n",
      "parRange H1_2122 -500 500\n",
      "parRange H1_2220 -500 500\n",
      "parRange H1_2221 -500 500\n",
      "parRange H1_2222 -500 500\n",
      "parRange H2_0011 -500 500\n",
      "parRange H2_0021 -500 500\n",
      "parRange H2_0022 -500 500\n",
      "parRange H2_2011 -500 500\n",
      "parRange H2_2021 -500 500\n",
      "parRange H2_2022 -500 500\n",
      "parRange H2_2110 -500 500\n",
      "parRange H2_2111 -500 500\n",
      "parRange H2_2120 -500 500\n",
      "parRange H2_2121 -500 500\n",
      "parRange H2_2122 -500 500\n",
      "parRange H2_2220 -500 500\n",
      "parRange H2_2221 -500 500\n",
      "parRange H2_2222 -500 500 \n",
      "\n",
      "# Define the amplitude, with 0 polarization angle and 35% polarization\n",
      "amplitude omegapi::vecPSMoment::vecPSMoment Vec_ps_moment 0 0.35 [H0_0000] [H0_0010] [H0_0011] [H0_0020] [H0_0021] [H0_0022] [H0_2000] [H0_2010] [H0_2011] [H0_2020] [H0_2021] [H0_2022] [H0_2110] [H0_2111] [H0_2120] [H0_2121] [H0_2122] [H0_2220] [H0_2221] [H0_2222] [H1_0000] [H1_0010] [H1_0011] [H1_0020] [H1_0021] [H1_0022] [H1_2000] [H1_2010] [H1_2011] [H1_2020] [H1_2021] [H1_2022] [H1_2110] [H1_2111] [H1_2120] [H1_2121] [H1_2122] [H1_2220] [H1_2221] [H1_2222] [H2_0011] [H2_0021] [H2_0022] [H2_2011] [H2_2021] [H2_2022] [H2_2110] [H2_2111] [H2_2120] [H2_2121] [H2_2122] [H2_2220] [H2_2221] [H2_2222]\n",
      "\n",
      "# fix the \"amplitude\" to be real and 1, so we don't have an extra free parameter\n",
      "initialize omegapi::vecPSMoment::vecPSMoment cartesian 1 0 fixed"
     ]
    }
   ],
   "source": [
    "%%bash\n",
    "cat ${STUDY_DIR}/cfg_files/moments.cfg"
   ]
  },
  {
   "cell_type": "code",
   "execution_count": 14,
   "id": "f8f12c77",
   "metadata": {},
   "outputs": [
    {
     "name": "stdout",
     "output_type": "stream",
     "text": [
      "Moment results exist, skipping fitting.\n"
     ]
    }
   ],
   "source": [
    "%%bash\n",
    "cd $MOMENT_DIR\n",
    "ln -sf ${STUDY_DIR}/data/root_files/data.root ./data.root\n",
    "ln -sf ${STUDY_DIR}/data/root_files/anglesOmegaPiPhaseSpace.root\n",
    "ln -sf ${STUDY_DIR}/data/root_files/anglesOmegaPiPhaseSpaceAcc.root\n",
    "\n",
    "if [ -e \"./omegapi.fit\" ]; then\n",
    "    echo \"Moment results exist, skipping fitting.\"\n",
    "else\n",
    "    echo \"Run 'fit -c ${STUDY_DIR}/cfg_files/moments.cfg -m 10000000 -r 50 > moment_fit.log' on an interactive GPU node to fit the data.\"\n",
    "fi"
   ]
  },
  {
   "cell_type": "code",
   "execution_count": 15,
   "id": "4063d748",
   "metadata": {},
   "outputs": [
    {
     "name": "stdout",
     "output_type": "stream",
     "text": [
      "Plotter output already exists, skipping plotting.\n"
     ]
    }
   ],
   "source": [
    "%%bash\n",
    "\n",
    "cd ${MOMENT_DIR}\n",
    "if [ -e ./vecps_plot.root ]; then\n",
    "    echo \"Plotter output already exists, skipping plotting.\"\n",
    "else\n",
    "    echo \"Plotting results...\"\n",
    "    vecps_plotter ./omegapi.fit\n",
    "    angle_plotter ./vecps_plot.root \"Thrown MC\" \"\" ${MOMENT_DIR} --gluex-style\n",
    "fi"
   ]
  },
  {
   "cell_type": "code",
   "execution_count": 16,
   "id": "7bad51ea",
   "metadata": {},
   "outputs": [
    {
     "data": {
      "image/png": "[encoded data removed]",
      "text/plain": [
       "<IPython.core.display.Image object>"
      ]
     },
     "metadata": {},
     "output_type": "display_data"
    }
   ],
   "source": [
    "utils.display_pdf(f\"{MOMENT_DIR}/fit.pdf\")"
   ]
  },
  {
   "cell_type": "code",
   "execution_count": 17,
   "id": "7adcd8ed",
   "metadata": {},
   "outputs": [
    {
     "name": "stdout",
     "output_type": "stream",
     "text": [
      "Checking if all input files exist...\n",
      "Temp file created at /scratch/kscheuer/tmpb0mdftes\n",
      "Running command: ['extract_fit_results', '/scratch/kscheuer/tmpb0mdftes', '/w/halld-scshelf2101/kscheuer/neutralb1/studies/input-output-tests/verify-moment/data/csv_files/moment_result.csv', '0']\n",
      "Error while running command:\n",
      "Error parsing amplitude 'omegapi::vecPSMoment::vecPSMoment': Amplitude name 'vecPSMoment' does not match expected format. Expected format: [pm][0-9][pm][lnm0pqr][SPDFG...] where first character is reflectivity (p/m), second is total angular momentum (0-9), third is parity (p/m), fourth is m-projection (l/n/m/0/p/q/r), and remaining characters are orbital angular momentum (S/P/D/F/...).\n",
      "Process completed successfully\n"
     ]
    }
   ],
   "source": [
    "%%bash\n",
    "\n",
    "# The error for the following command is expected, the vecPSMoment amplitude cannot be parsed into coherent sums. This is fine because the \n",
    "# moments are stored as parameters, which do get extracted.\n",
    "cd ${MOMENT_DIR}\n",
    "python $WORKSPACE_DIR/src/neutralb1/batch/convert_to_csv.py\\\n",
    "    -i omegapi.fit -o  $STUDY_DIR/data/csv_files/moment_result.csv"
   ]
  },
  {
   "cell_type": "markdown",
   "id": "38a8483e",
   "metadata": {},
   "source": [
    "## Analysis"
   ]
  },
  {
   "cell_type": "code",
   "execution_count": 18,
   "id": "dcde30e3",
   "metadata": {},
   "outputs": [],
   "source": [
    "# first load in our dataframes\n",
    "data_df = pd.read_csv(f\"{STUDY_DIR}/data/csv_files/data.csv\")\n",
    "fit_results_df = pd.read_csv(f\"{STUDY_DIR}/data/csv_files/amplitude_result.csv\")\n",
    "truth_df = pd.read_csv(f\"{STUDY_DIR}/data/csv_files/truth.csv\")\n",
    "projected_moments_df = pd.read_csv(f\"{STUDY_DIR}/data/csv_files/projected_moments.csv\")\n",
    "fitted_moments_df = pd.read_csv(f\"{STUDY_DIR}/data/csv_files/moment_result.csv\")"
   ]
  },
  {
   "cell_type": "markdown",
   "id": "193c1aad",
   "metadata": {},
   "source": [
    "### Checking Amplitude Results\n",
    "We'll first want to make sure that our amplitude-based fits actually resolved to the values we generated with before we project them out"
   ]
  },
  {
   "cell_type": "code",
   "execution_count": 19,
   "id": "390b45fb",
   "metadata": {},
   "outputs": [],
   "source": [
    "amplitude_results = ResultManager(fit_results_df, data_df, truth_df=truth_df)\n",
    "amplitude_results.preprocess(linker_max_depth=2)"
   ]
  },
  {
   "cell_type": "code",
   "execution_count": 20,
   "id": "90127580",
   "metadata": {},
   "outputs": [],
   "source": [
    "amp_columns = [l for sublist in utils.get_coherent_sums(amplitude_results.fit_df).values() for l in sublist]\n",
    "phase_columns = list(set(utils.get_phase_differences(amplitude_results.fit_df).values()))"
   ]
  },
  {
   "cell_type": "markdown",
   "id": "c254e4cf",
   "metadata": {},
   "source": [
    "Print the percentage uncertainty of the results to make sure we don't have errors on the same order of magnitude as the result. Negative reflectivities are quite small so some of their values may be >50%"
   ]
  },
  {
   "cell_type": "code",
   "execution_count": 21,
   "id": "b0360563",
   "metadata": {},
   "outputs": [
    {
     "name": "stdout",
     "output_type": "stream",
     "text": [
      "m1m0P: 72.50445101575448\n",
      "m1mmP: 537.8831172214938\n",
      "m1mpP: 78.31996616180513\n",
      "m1p0D: 103.04463714299779\n",
      "m1p0S: 123.99905255076204\n",
      "m1pmD: 86.68596361637435\n",
      "m1pmS: 121.19455894476503\n",
      "m1ppD: 87.76145972407654\n",
      "m1ppS: 98.19738797215923\n",
      "p1m0P: 50.6332758651334\n",
      "p1mmP: 70.4990371280459\n",
      "1mmP: 85.29321700666213\n",
      "m1mP: 65.18095412771922\n",
      "m1pS: 55.38075764206417\n",
      "m1m: 65.18095412771922\n",
      "p1p0D_p1ppD: 0.0440383448275862\n",
      "m1ppS_m1mmP: -1.3273338473400156\n",
      "m1p0S_m1ppD: -0.6393538630136987\n",
      "p1ppS_p1ppD: 0.504708\n",
      "p1ppS_p1m0P: 0.9577086419753087\n",
      "p1pmS_p1m0P: 3.0838457583547556\n",
      "p1ppD_p1mpP: 0.04699489971346705\n",
      "m1m0P_m1mpP: 0.4093981016192071\n",
      "p1p0S_p1m0P: -0.21635208913649023\n",
      "p1pmD_p1mpP: -0.12240248447204968\n",
      "m1pmS_m1p0S: 0.6781268115942028\n",
      "m1pmD_m1p0D: -0.4013351111111111\n",
      "p1pmS_p1mpP: 0.0756995996797438\n",
      "p1pmD_p1p0D: -0.1518572614107884\n",
      "m1p0S_m1p0D: -0.9376226075786769\n",
      "p1p0S_p1ppD: 0.035378066666666666\n",
      "m1pmS_m1m0P: -0.5452453146853147\n",
      "m1p0D_m1mpP: -0.5710782103428239\n",
      "p1pmS_p1pmD: -0.38078135469774216\n",
      "p1ppS_p1mmP: -0.2597812602739726\n",
      "m1pmS_m1mpP: -1.2929930776426566\n",
      "p1mmP_p1m0P: 0.29448472109943413\n",
      "p1p0D_p1m0P: 0.2242991452991453\n",
      "p1p0D_p1mmP: 1.429911541325391\n",
      "p1pmD_p1p0S: -0.14923926258096662\n",
      "p1p0S_p1p0D: 0.5625811653543308\n",
      "p1mmP_p1mpP: -0.5391829181494662\n",
      "p1pmD_p1mmP: -0.3393889447236181\n",
      "m1p0S_m1mpP: 0.5303303787268333\n",
      "p1pmD_p1ppS: 1.1512365394948951\n",
      "p1p0S_p1mmP: 1.1520000000000001\n",
      "p1m0P_p1mpP: 0.2804493055555556\n",
      "m1p0S_m1ppS: 2.1955276450511945\n",
      "p1p0D_p1mpP: -0.15316567901234568\n",
      "p1p0D_p1ppS: 0.030661259259259256\n",
      "m1ppD_m1mmP: -74.31284210526317\n",
      "p1pmS_p1ppS: -0.28443433608815427\n",
      "m1pmD_m1m0P: -2.45163942414175\n",
      "m1pmD_m1mpP: 0.6992382089552239\n",
      "m1ppD_m1mpP: -0.784541775636614\n",
      "p1ppD_p1mmP: -0.23507345088161208\n",
      "p1p0S_p1mpP: -0.1655919788918206\n",
      "m1pmS_m1p0D: 2.1790477359938603\n",
      "m1pmS_m1ppD: 2.5937875\n",
      "p1pmD_p1m0P: 0.7438982973893303\n",
      "m1pmD_m1p0S: -1.1036049036777584\n",
      "p1pmS_p1p0S: -0.06097045285820341\n",
      "m1p0S_m1m0P: 2.0651345875542693\n",
      "m1pmS_m1ppS: -0.6954553191489362\n",
      "m1ppS_m1ppD: -0.704169014084507\n",
      "p1pmS_p1ppD: -0.47425470638297873\n",
      "m1p0D_m1m0P: 0.521617793594306\n",
      "m1pmS_m1pmD: -0.6793222591362127\n",
      "p1pmD_p1ppD: 0.6775444939528962\n",
      "m1pmS_m1mmP: 7.7012254335260115\n",
      "m1mmP_m1m0P: 1.1783931088488646\n",
      "m1ppD_m1m0P: 0.5403014308426073\n",
      "p1p0S_p1ppS: 0.028272285714285715\n",
      "m1ppS_m1m0P: -28.212168229954614\n",
      "m1mmP_m1mpP: -2.1534756183745585\n",
      "m1p0S_m1mmP: -1.6893011272141707\n",
      "m1pmD_m1mmP: 1.2086158315177924\n",
      "m1ppS_m1mpP: 0.6164809142857143\n",
      "m1p0D_m1ppD: -4.718308699719364\n",
      "m1p0D_m1ppS: 0.5572464628820961\n",
      "p1ppS_p1mpP: -0.038979772079772074\n",
      "p1pmS_p1p0D: -0.06748645753634278\n",
      "p1pmS_p1mmP: -0.2142644424934153\n",
      "p1ppD_p1m0P: 1.2409183819764464\n",
      "m1pmD_m1ppD: 0.4648160458452722\n",
      "m1p0D_m1mmP: -9.973149877149877\n",
      "m1pmD_m1ppS: -2.5732409756097563\n"
     ]
    }
   ],
   "source": [
    "for col in amp_columns:\n",
    "    rel_err = (amplitude_results.fit_df[f\"{col}_err\"] / amplitude_results.fit_df[col]).iloc[0] * 100\n",
    "    if rel_err > 50:\n",
    "        print(f\"{col}: {rel_err}\")\n",
    "for col in phase_columns:    \n",
    "    rel_err = (amplitude_results.fit_df[f\"{col}_err\"] / amplitude_results.fit_df[col]).iloc[0] * 100    \n",
    "    print(f\"{col}: {rel_err}\")"
   ]
  },
  {
   "cell_type": "markdown",
   "id": "13c7a240",
   "metadata": {},
   "source": [
    "The standardized residuals for the amplitudes will let us know if any of the coherent sums are very far outside of the range captured by the error. They are not printed for the phases, as the errors are *very* underestimated for them and thus the standardized residuals are not trustworthy"
   ]
  },
  {
   "cell_type": "code",
   "execution_count": 22,
   "id": "b99e5ecd",
   "metadata": {},
   "outputs": [
    {
     "name": "stdout",
     "output_type": "stream",
     "text": [
      "m1pD: -4.294216668555057\n",
      "1pD: -3.2555882659441457\n"
     ]
    }
   ],
   "source": [
    "for col in amp_columns:\n",
    "    std_res = ((amplitude_results.fit_df[col] - amplitude_results.truth_df[col]) / amplitude_results.fit_df[f\"{col}_err\"]).iloc[0]\n",
    "    if std_res > 3 or std_res < -3:\n",
    "        print(f\"{col}: {std_res}\")"
   ]
  },
  {
   "cell_type": "markdown",
   "id": "0a0de1eb",
   "metadata": {},
   "source": [
    "### Comparing Projected to Fitted Moments\n",
    "We don't have \"truth\" moments to compare to, so we can move forward with checking how the moments projected from the amplitudes $H_{\\text{projected}}$ compare to the moments obtained by fitting them to data with AmpTools $H_{\\text{fitted}}$"
   ]
  },
  {
   "cell_type": "code",
   "execution_count": 23,
   "id": "4f9eaa19",
   "metadata": {},
   "outputs": [
    {
     "name": "stdout",
     "output_type": "stream",
     "text": [
      "['H0_0000_real', 'H0_0000_imag', 'H0_0010_real', 'H0_0010_imag', 'H0_0011_real', 'H0_0011_imag', 'H0_0020_real', 'H0_0020_imag', 'H0_0021_real', 'H0_0021_imag', 'H0_0022_real', 'H0_0022_imag', 'H0_2000_real', 'H0_2000_imag', 'H0_2010_real', 'H0_2010_imag', 'H0_2011_real', 'H0_2011_imag', 'H0_2020_real', 'H0_2020_imag', 'H0_2021_real', 'H0_2021_imag', 'H0_2022_real', 'H0_2022_imag', 'H0_2110_real', 'H0_2110_imag', 'H0_2111_real', 'H0_2111_imag', 'H0_2120_real', 'H0_2120_imag', 'H0_2121_real', 'H0_2121_imag', 'H0_2122_real', 'H0_2122_imag', 'H0_2220_real', 'H0_2220_imag', 'H0_2221_real', 'H0_2221_imag', 'H0_2222_real', 'H0_2222_imag', 'H1_0000_real', 'H1_0000_imag', 'H1_0010_real', 'H1_0010_imag', 'H1_0011_real', 'H1_0011_imag', 'H1_0020_real', 'H1_0020_imag', 'H1_0021_real', 'H1_0021_imag', 'H1_0022_real', 'H1_0022_imag', 'H1_2000_real', 'H1_2000_imag', 'H1_2010_real', 'H1_2010_imag', 'H1_2011_real', 'H1_2011_imag', 'H1_2020_real', 'H1_2020_imag', 'H1_2021_real', 'H1_2021_imag', 'H1_2022_real', 'H1_2022_imag', 'H1_2110_real', 'H1_2110_imag', 'H1_2111_real', 'H1_2111_imag', 'H1_2120_real', 'H1_2120_imag', 'H1_2121_real', 'H1_2121_imag', 'H1_2122_real', 'H1_2122_imag', 'H1_2220_real', 'H1_2220_imag', 'H1_2221_real', 'H1_2221_imag', 'H1_2222_real', 'H1_2222_imag', 'H2_0011_real', 'H2_0011_imag', 'H2_0021_real', 'H2_0021_imag', 'H2_0022_real', 'H2_0022_imag', 'H2_2011_real', 'H2_2011_imag', 'H2_2021_real', 'H2_2021_imag', 'H2_2022_real', 'H2_2022_imag', 'H2_2110_real', 'H2_2110_imag', 'H2_2111_real', 'H2_2111_imag', 'H2_2120_real', 'H2_2120_imag', 'H2_2121_real', 'H2_2121_imag', 'H2_2122_real', 'H2_2122_imag', 'H2_2220_real', 'H2_2220_imag', 'H2_2221_real', 'H2_2221_imag', 'H2_2222_real', 'H2_2222_imag']\n",
      "['H0_0000', 'H0_0010', 'H0_0011', 'H0_0020', 'H0_0021', 'H0_0022', 'H0_2000', 'H0_2010', 'H0_2011', 'H0_2020', 'H0_2021', 'H0_2022', 'H0_2110', 'H0_2111', 'H0_2120', 'H0_2121', 'H0_2122', 'H0_2220', 'H0_2221', 'H0_2222', 'H1_0000', 'H1_0010', 'H1_0011', 'H1_0020', 'H1_0021', 'H1_0022', 'H1_2000', 'H1_2010', 'H1_2011', 'H1_2020', 'H1_2021', 'H1_2022', 'H1_2110', 'H1_2111', 'H1_2120', 'H1_2121', 'H1_2122', 'H1_2220', 'H1_2221', 'H1_2222', 'H2_0011', 'H2_0021', 'H2_0022', 'H2_2011', 'H2_2021', 'H2_2022', 'H2_2110', 'H2_2111', 'H2_2120', 'H2_2121', 'H2_2122', 'H2_2220', 'H2_2221', 'H2_2222']\n"
     ]
    }
   ],
   "source": [
    "# Find columns starting with \"H\" in both dataframes\n",
    "proj_cols = [col for col in projected_moments_df.columns if col.startswith(\"H\")]\n",
    "fit_cols = [col for col in fitted_moments_df.columns if col.startswith(\"H\") and not col.endswith(\"_err\")]\n",
    "print(proj_cols)\n",
    "print(fit_cols)"
   ]
  },
  {
   "cell_type": "markdown",
   "id": "0ee73f99",
   "metadata": {},
   "source": [
    "The projected moments are split into real and imaginary parts, whereas the fitted moments are forced to be one or the other. We expect the $H^0$ and $H^1$ moments to be purely real, and the $H^2$ moments to be purely imaginary. We'll make sure those values are close to zero."
   ]
  },
  {
   "cell_type": "code",
   "execution_count": 24,
   "id": "ebfb542f",
   "metadata": {},
   "outputs": [
    {
     "name": "stdout",
     "output_type": "stream",
     "text": [
      "1.13687e-13\n"
     ]
    }
   ],
   "source": [
    "H0_imag = [c for c in proj_cols if \"H0\" in c and \"_imag\" in c]\n",
    "H1_imag = [c for c in proj_cols if \"H1\" in c and \"_imag\" in c]\n",
    "H2_real = [c for c in proj_cols if \"H2\" in c and \"_real\" in c]\n",
    "\n",
    "print(projected_moments_df[H0_imag + H1_imag + H2_real].max().max())"
   ]
  },
  {
   "cell_type": "code",
   "execution_count": 25,
   "id": "d05c3f58",
   "metadata": {},
   "outputs": [],
   "source": [
    "# Drop the \"_imag\" columns for H0 and H1, and the \"_real\" columns for H2\n",
    "imag_cols_to_drop = [col for col in proj_cols if (col.startswith(\"H0\") or col.startswith(\"H1\")) and col.endswith(\"_imag\")]\n",
    "filtered_proj_moments_df = projected_moments_df.drop(columns=imag_cols_to_drop)\n",
    "real_cols_to_drop = [col for col in proj_cols if col.startswith(\"H2\") and col.endswith(\"_real\")]\n",
    "filtered_proj_moments_df = filtered_proj_moments_df.drop(columns=real_cols_to_drop)\n",
    "\n",
    "# remove the real or imag suffix\n",
    "filtered_proj_moments_df = filtered_proj_moments_df.rename(\n",
    "    columns={col: col.replace(\"_real\", \"\").replace(\"_imag\", \"\") for col in filtered_proj_moments_df.columns}\n",
    ")"
   ]
  },
  {
   "cell_type": "code",
   "execution_count": 26,
   "id": "ed6ca409",
   "metadata": {},
   "outputs": [
    {
     "name": "stdout",
     "output_type": "stream",
     "text": [
      "set()\n"
     ]
    }
   ],
   "source": [
    "# Ensure both dataframes have the same columns\n",
    "print(set(filtered_proj_moments_df.columns) - set(fitted_moments_df.columns))"
   ]
  },
  {
   "cell_type": "code",
   "execution_count": 27,
   "id": "bcf89c30",
   "metadata": {},
   "outputs": [],
   "source": [
    "# obtain the ratios between the projected and fitted moments\n",
    "ratio_df = pd.DataFrame(index=filtered_proj_moments_df.index)\n",
    "moment_columns = [c for c in filtered_proj_moments_df.columns if c.startswith(\"H\")]\n",
    "ratios = []\n",
    "ratio_errs = []\n",
    "\n",
    "for col in moment_columns:\n",
    "    ratio = filtered_proj_moments_df[col] / fitted_moments_df[col]\n",
    "    # for now we'll just use the MINUIT errors from the fitted moments\n",
    "    ratio_err = ratio * np.sqrt(np.square(fitted_moments_df[f\"{col}_err\"] / fitted_moments_df[col]))\n",
    "    ratios.append(ratio)\n",
    "    ratio_errs.append(ratio_err)\n",
    "\n",
    "ratio_errs_df = pd.DataFrame(ratio_errs).T\n",
    "ratio_errs_df.columns = moment_columns\n",
    "\n",
    "# add the ratio errors to the ratio dataframe as a new row\n",
    "ratio_df = pd.concat([ratio_df, pd.DataFrame(ratios).T], axis=1)\n",
    "ratio_df = pd.concat([ratio_df, ratio_errs_df], axis=0, ignore_index=True)"
   ]
  },
  {
   "cell_type": "code",
   "execution_count": 28,
   "id": "81b46f98",
   "metadata": {},
   "outputs": [
    {
     "data": {
      "image/png": "[encoded data removed]",
      "text/plain": [
       "<Figure size 1800x500 with 1 Axes>"
      ]
     },
     "metadata": {},
     "output_type": "display_data"
    }
   ],
   "source": [
    "plt.figure(figsize=(18, 5))\n",
    "plt.errorbar(x=ratio_df.columns, y=ratio_df.iloc[0], yerr=abs(ratio_df.iloc[1]), marker='o', color=\"black\")\n",
    "plt.axhline(y=1, color='red', linestyle='--', label='Expected Ratio = 1')\n",
    "plt.xticks(rotation=90)\n",
    "plt.ylabel(\"Projected / Fitted Moment Ratio\")\n",
    "plt.xlabel(\"Moment\")\n",
    "plt.grid(True)\n",
    "plt.tight_layout()\n",
    "plt.show()"
   ]
  }
 ],
 "metadata": {
  "kernelspec": {
   "display_name": "neutralb1",
   "language": "python",
   "name": "python3"
  },
  "language_info": {
   "codemirror_mode": {
    "name": "ipython",
    "version": 3
   },
   "file_extension": ".py",
   "mimetype": "text/x-python",
   "name": "python",
   "nbconvert_exporter": "python",
   "pygments_lexer": "ipython3",
   "version": "3.13.5"
  }
 },
 "nbformat": 4,
 "nbformat_minor": 5
}
