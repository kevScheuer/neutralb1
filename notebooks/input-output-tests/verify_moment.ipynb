{
 "cells": [
  {
   "cell_type": "code",
   "execution_count": 1,
   "id": "10e4bded",
   "metadata": {},
   "outputs": [
    {
     "name": "stdout",
     "output_type": "stream",
     "text": [
      "eb9a1af668e0af18156f9dcb8c01af78f742f8d6\n"
     ]
    }
   ],
   "source": [
    "import subprocess\n",
    "import neutralb1.utils\n",
    "\n",
    "WORKSPACE_DIR = neutralb1.utils.get_workspace_dir()\n",
    "\n",
    "git_hash = subprocess.check_output(['git', 'rev-parse', 'HEAD'], cwd=WORKSPACE_DIR).decode('utf-8').strip()\n",
    "print(git_hash)"
   ]
  },
  {
   "cell_type": "markdown",
   "id": "07fe16b6",
   "metadata": {},
   "source": [
    "**Repository Version** \n",
    "This notebook was run at commit:\n",
    "`FILL WHEN DONE`"
   ]
  },
  {
   "cell_type": "markdown",
   "id": "d98cbf86",
   "metadata": {},
   "source": [
    "# Verifying the Projection of Moments with Signal MC\n",
    "As found previously, the projected moments have some missing factors causing them not to match expectations. Since then, two major updates have occured:\n",
    "1. I've developed a direct fit to data using moments as AmpTools parameters, which should now provide a set of \"true\" values we can compare the projected moments to.\n",
    "   <br>a. Has issues in extracting moments with $>1\\%$ contribution, but this should be enough to track down factors\n",
    "2. The old python projection script has now been replaced by a c++ version, that also includes the necessary normalization integrals\n",
    "   a. The script may likely be updated over time, so check the commit hash for what version to use.\n",
    "\n",
    "This study will proceed as follows:\n",
    "1. Generate Signal Monte Carlo (MC) according to a pseudo-realistic set of waves (no acceptance effects i.e. *thrown*)\n",
    "   <br>a. 35% polarization and in the PARA_0 orientation\n",
    "2. Fit MC with same waveset, and obtain a fit result that should match the generated wave values\n",
    "3. Project moments from the fit result to obtain a projected moment-set $H_{\\text{proj}}$\n",
    "4. Fit MC with the same number of moments, and obtain a fitted moment-set $H_{\\text{fit}}$\n",
    "5. Compare the fit and projected sets to investigate the missing factors."
   ]
  },
  {
   "cell_type": "markdown",
   "id": "abb79a25",
   "metadata": {},
   "source": [
    "## Setup"
   ]
  },
  {
   "cell_type": "code",
   "execution_count": 2,
   "id": "4eb931c8",
   "metadata": {},
   "outputs": [],
   "source": [
    "# load common libraries\n",
    "import pandas as pd\n",
    "import pathlib\n",
    "import os, sys\n",
    "import numpy as np\n",
    "import matplotlib.pyplot as plt\n",
    "\n",
    "import neutralb1.utils as utils\n",
    "from neutralb1.analysis.result import ResultManager\n",
    "\n",
    "utils.load_environment()\n",
    "\n",
    "# load in useful directories as constants\n",
    "CWD = pathlib.Path.cwd()\n",
    "STUDY_DIR = f\"{WORKSPACE_DIR}/studies/input-output-tests/verify-moment/\"\n",
    "\n",
    "# set env variables for shell cells\n",
    "os.environ['STUDY_DIR'] = STUDY_DIR\n"
   ]
  },
  {
   "cell_type": "markdown",
   "id": "5e732744",
   "metadata": {},
   "source": [
    "## Data Creation"
   ]
  },
  {
   "cell_type": "markdown",
   "id": "75d54b2d",
   "metadata": {},
   "source": [
    "### Generate\n",
    "We'll use the same cfg file to generate and fit the amplitude-based Monte Carlo with. This will be done in a single bin of mass at:\n",
    "* $0.1 < -t < 0.2$\n",
    "* $8.2 < E_\\gamma < 8.8$\n",
    "* $1.20 < M_{\\omega\\pi^0} < 1.22$"
   ]
  },
  {
   "cell_type": "code",
   "execution_count": 3,
   "id": "f6b445e9",
   "metadata": {},
   "outputs": [
    {
     "name": "stdout",
     "output_type": "stream",
     "text": [
      "# This cfg file is designed to generate and fit waves in a single mass bin\n",
      "# to confirm the projection of moments is working correctly. No acceptance effects\n",
      "# will be applied, and the phasespace will contain the same TEM cuts as the signal\n",
      "#   -t: 0.1 - 0.2\n",
      "#    M: 1.2 - 1.22\n",
      "#    E: 8.2 - 8.8\n",
      "#\n",
      "# The waveset is pseudo-realistic, and comes from the previous truth-initialized fits,\n",
      "# but has already applied the Breit-Wigner and scale parameter to the complex values\n",
      "\n",
      "\n",
      "# generator-level configuration parameters\n",
      "define vector 0.782 0.008\n",
      "define beamconfig beam.cfg\n",
      "\n",
      "# fit setup\n",
      "fit omegapi\n",
      "normintfile omegapi omegapi.ni\n"
     ]
    }
   ],
   "source": [
    "with open(f\"{STUDY_DIR}/cfg_files/amplitudes.cfg\", \"r\") as f:\n",
    "    for i in range(18):\n",
    "        print(f.readline(), end=\"\")"
   ]
  },
  {
   "cell_type": "code",
   "execution_count": 4,
   "id": "836c00d1",
   "metadata": {
    "vscode": {
     "languageId": "shellscript"
    }
   },
   "outputs": [
    {
     "name": "stdout",
     "output_type": "stream",
     "text": [
      "data exists, skipping generation.\n"
     ]
    }
   ],
   "source": [
    "%%bash \n",
    "if [ -e \"${STUDY_DIR}/data/root_files/data.root\" ]; then\n",
    "    echo \"data exists, skipping generation.\"\n",
    "else \n",
    "    echo \"Generating data...\"\n",
    "    gen_vec_ps -c ${STUDY_DIR}/cfg_files/amplitudes.cfg\\\n",
    "        -o ${STUDY_DIR}/data/root_files/data.root\\\n",
    "        -l 1.20 -u 1.22\\\n",
    "        -n 50000\\\n",
    "        -a 8.2 -b 8.8\\\n",
    "        -tmin 0.1 -tmax 0.2\n",
    "    if [ -e \"${STUDY_DIR}/data/root_files/data.root\" ]; then\n",
    "        echo \"Data generation successful.\"\n",
    "    else\n",
    "        echo \"Data generation failed.\"\n",
    "        exit 1\n",
    "    fi\n",
    "fi"
   ]
  },
  {
   "cell_type": "markdown",
   "id": "75d7e379",
   "metadata": {},
   "source": [
    "### Fitting"
   ]
  },
  {
   "cell_type": "markdown",
   "id": "0fffe717",
   "metadata": {},
   "source": [
    "#### Amplitudes\n",
    "Amplitude fits will require a GPU session due to their performance requirements."
   ]
  },
  {
   "cell_type": "code",
   "execution_count": 9,
   "id": "eb5abf54",
   "metadata": {
    "vscode": {
     "languageId": "shellscript"
    }
   },
   "outputs": [
    {
     "name": "stdout",
     "output_type": "stream",
     "text": [
      "Run 'fit -c /w/halld-scshelf2101/kscheuer/neutralb1/studies/input-output-tests/verify-moment//cfg_files/amplitudes.cfg -m 10000000 -r 50 > amplitude_fit.log' on an interactive GPU node to fit the data.\n"
     ]
    }
   ],
   "source": [
    "%%bash\n",
    "if [ -e \"${STUDY_DIR}/data/amplitude_results/omegapi.fit\" ]; then\n",
    "    echo \"Amplitude results exist, skipping fitting.\"\n",
    "else\n",
    "    echo \"Run 'fit -c ${STUDY_DIR}/cfg_files/amplitudes.cfg -m 10000000 -r 50 > amplitude_fit.log' on an interactive GPU node to fit the data.\"\n",
    "fi"
   ]
  },
  {
   "cell_type": "code",
   "execution_count": null,
   "id": "5f4c6ab8",
   "metadata": {
    "vscode": {
     "languageId": "shellscript"
    }
   },
   "outputs": [],
   "source": [
    "%%bash\n",
    "# TODO: split into cells\n",
    "# vecps_plotter omegapi.fit    \n",
    "# $WORKSPACE_DIR/submission/batch_scripts/angle_plotter vecps_plot.root \"Thrown MC\" \"\" ./ true\n",
    "# python $WORKSPACE_DIR/submission/batch_scripts/convert_to_csv.py -i omegapi.fit -o result.csv\n",
    "# python $WORKSPACE_DIR/submission/batch_scripts/project_moments.py\\\n",
    "#     -i omegapi.fit -o projected_moments.csv -m 1.21\n",
    "\n",
    "# mkdir -p amplitude_results\n",
    "# mv omegapi_*.fit amplitude_results/\n",
    "# mv omegapi.fit amplitude_results/\n",
    "# mv omegapi.ni amplitude_results/\n",
    "# mv vecps_plot.root amplitude_results/\n",
    "# mv vecps_fitPars.txt amplitude_results/\n",
    "# mv result.csv amplitude_results/\n",
    "# mv projected_moments.csv amplitude_results/\n",
    "\n",
    "# # FIT WITH MOMENTS\n",
    "# fit -c moments.cfg -m 10000000 -r 50 > moment_fit.log\n",
    "# if [ -e \"omegapi.fit\" ]; then\n",
    "#     echo \"Fit successful.\"    \n",
    "# else\n",
    "#     echo \"Fit failed.\"\n",
    "#     exit 1\n",
    "# fi\n",
    "# vecps_plotter omegapi.fit\n",
    "# $WORKSPACE_DIR/submission/batch_script/angle_plotter vecps_plot.root \"Thrown MC\" \"\" ./ true\n",
    "# python $WORKSPACE_DIR/submission/batch_scripts/convert_to_csv.py -i omegapi.fit -o result.csv\n",
    "\n",
    "# mkdir -p moment_results\n",
    "# mv omegapi_*.fit moment_results/\n",
    "# mv omegapi.fit moment_results/\n",
    "# mv omegapi.ni moment_results/\n",
    "# mv vecps_plot.root moment_results/\n",
    "# mv vecps_fitPars.txt moment_results/\n",
    "# mv result.csv moment_results/"
   ]
  },
  {
   "cell_type": "markdown",
   "id": "2c42b858",
   "metadata": {},
   "source": [
    "#### Moments"
   ]
  },
  {
   "cell_type": "code",
   "execution_count": null,
   "id": "f8f12c77",
   "metadata": {
    "vscode": {
     "languageId": "shellscript"
    }
   },
   "outputs": [],
   "source": []
  }
 ],
 "metadata": {
  "kernelspec": {
   "display_name": "neutralb1",
   "language": "python",
   "name": "python3"
  },
  "language_info": {
   "codemirror_mode": {
    "name": "ipython",
    "version": 3
   },
   "file_extension": ".py",
   "mimetype": "text/x-python",
   "name": "python",
   "nbconvert_exporter": "python",
   "pygments_lexer": "ipython3",
   "version": "3.13.5"
  }
 },
 "nbformat": 4,
 "nbformat_minor": 5
}
