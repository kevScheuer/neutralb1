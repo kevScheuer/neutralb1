{
 "cells": [
  {
   "cell_type": "code",
   "execution_count": null,
   "id": "ffb1aa94",
   "metadata": {},
   "outputs": [],
   "source": [
    "import subprocess\n",
    "import neutralb1.utils as utils\n",
    "\n",
    "WORKSPACE_DIR = utils.get_workspace_dir()\n",
    "\n",
    "git_hash = subprocess.check_output(['git', 'rev-parse', 'HEAD'], cwd=WORKSPACE_DIR).decode('utf-8').strip()\n",
    "print(git_hash)"
   ]
  },
  {
   "cell_type": "markdown",
   "id": "3350ae48",
   "metadata": {},
   "source": [
    "# Fits to Data with Constrained D/S Ratio\n",
    "This notebook covers analysis of the pwa results, for fits to $\\omega\\pi^0$ data. The waveset / data used can be summarized with:\n",
    "* Only spin-1 ($J=1$) waves\n",
    "  * {$J^P\\ell$} = {$1^+S, 1^-P, 1^+D$}\n",
    "* The D and S waves are constrained to each other, such that every $D$-wave has a common ratio and phase between its $S$-wave partner\n",
    "  * Boundaries: $0< r_{D/S} < 1,\\quad -\\pi<\\phi_{D-S}<\\pi$\n",
    "* Include an isotropic background term\n",
    "  * Assumed that sideband subtraction handles almost all background events, and so these events will be *true* $\\omega$ events, but contribute in total a flat distribution to the angular distributions\n",
    "* A cut placed on the mass of the proton-pseudoscalar system $M_{p\\pi^0} > 1.4$ GeV is imposed to remove $\\Delta^+$ contributions in the low mass range \n",
    "* Uses all 4 polarization orientations"
   ]
  },
  {
   "cell_type": "markdown",
   "id": "f48e1e0c",
   "metadata": {},
   "source": [
    "The details of the fit can be described as:\n",
    "* Split data into bins of mass and $-t$\n",
    "  * 20 MeV wide bins from $1.0 < M_{\\omega\\pi^0} < 2.0$ \n",
    "  * Varying bins of $-t$: [0.1, 0.2], [0.2, 0.3], [0.3, 0.5], [0.5, 1.0]\n",
    "* Perform 500 randomized fits in each bin of mass and $-t$ independently \n",
    "* Use the best of the 500 fits to seed 100 bootstrap fits"
   ]
  },
  {
   "cell_type": "markdown",
   "id": "1eaf61d3",
   "metadata": {},
   "source": [
    "Finer details can be found in the print-out of the `.yaml` file below"
   ]
  },
  {
   "cell_type": "markdown",
   "id": "ba43d9de",
   "metadata": {},
   "source": [
    "## Setup\n"
   ]
  },
  {
   "cell_type": "code",
   "execution_count": null,
   "id": "6a72588c",
   "metadata": {},
   "outputs": [],
   "source": [
    "# load common libraries\n",
    "import pandas as pd\n",
    "import pickle as pkl\n",
    "import pathlib\n",
    "import os, sys\n",
    "import numpy as np\n",
    "import matplotlib.pyplot as plt\n",
    "from typing import Dict\n",
    "import warnings\n",
    "\n",
    "# load neutralb1 libraries\n",
    "import neutralb1.utils as utils\n",
    "from neutralb1.analysis.result import ResultManager\n",
    "\n",
    "utils.load_environment()\n",
    "\n",
    "# load in useful directories as constants\n",
    "CWD = pathlib.Path.cwd()\n",
    "STUDY_DIR = f\"{WORKSPACE_DIR}/studies/data-fits/spin-1-constrained-ratio/\"\n",
    "\n",
    "# set env variables for shell cells\n",
    "os.environ[\"WORKSPACE_DIR\"] = WORKSPACE_DIR\n",
    "os.environ['STUDY_DIR'] = STUDY_DIR"
   ]
  },
  {
   "cell_type": "code",
   "execution_count": null,
   "id": "fe3ad209",
   "metadata": {
    "vscode": {
     "languageId": "shellscript"
    }
   },
   "outputs": [],
   "source": [
    "%%bash\n",
    "# print out yaml file used to submit the fits\n",
    "cat $STUDY_DIR/submission.YAML"
   ]
  },
  {
   "cell_type": "markdown",
   "id": "67949892",
   "metadata": {},
   "source": [
    "The fit results have all been collected, saved to dataframes, and preprocessed using the [`scripts/run_analysis.py`](https://github.com/kevScheuer/neutralb1/blob/main/scripts/run_analysis.py) module. We can simply load in the pickled files here"
   ]
  },
  {
   "cell_type": "code",
   "execution_count": null,
   "id": "95fbc63b",
   "metadata": {},
   "outputs": [],
   "source": [
    "# load in the preprocessed results \n",
    "results = {} # \"detected\" results\n",
    "ac_results = {} # acceptance corrected results\n",
    "\n",
    "for t_bin in sorted(os.listdir(f\"{STUDY_DIR}/\")):\n",
    "    if not os.path.isdir(f\"{STUDY_DIR}/{t_bin}\"):\n",
    "        continue\n",
    "    print(f\"Loading results from {t_bin}\")\n",
    "    with open(f\"{STUDY_DIR}/{t_bin}/preprocessed_results.pkl\", \"rb\") as f:\n",
    "        data = pkl.load(f)\n",
    "    results[t_bin] = ResultManager(**data)\n",
    "\n",
    "    with open(f\"{STUDY_DIR}/{t_bin}/preprocessed_results_acceptance_corrected.pkl\", \"rb\") as f:\n",
    "        data = pkl.load(f)\n",
    "    ac_results[t_bin] = ResultManager(**data)\n",
    "\n",
    "# let interpreter know the types explicitly so we can easily access methods\n",
    "results: Dict[str, ResultManager]\n",
    "ac_results: Dict[str, ResultManager]"
   ]
  },
  {
   "cell_type": "markdown",
   "id": "52bf8046",
   "metadata": {},
   "source": [
    "## Analysis"
   ]
  },
  {
   "cell_type": "markdown",
   "id": "0c07e60a",
   "metadata": {},
   "source": [
    "### Standard Plots\n",
    "First step is to print out all the standard plots to view the model's performance"
   ]
  },
  {
   "cell_type": "code",
   "execution_count": null,
   "id": "592c6ce6",
   "metadata": {},
   "outputs": [],
   "source": [
    "for t_bin in results.keys():\n",
    "    utils.big_print(f\"t bin: {t_bin}\", 2.0)\n",
    "    for pdf in pathlib.Path(f\"{STUDY_DIR}/{t_bin}/plots\").glob(\"*.pdf\"):\n",
    "            if pdf.name in [\"jp.pdf\", \"waves.pdf\", \"matrix.pdf\", \"proj_moments.pdf\"]:\n",
    "                utils.display_pdf(str(pdf), 0)"
   ]
  },
  {
   "cell_type": "markdown",
   "id": "975ea194",
   "metadata": {},
   "source": [
    "### D/S Ratio\n",
    "Compare the D/S Ratio to E852 results, and check for correlations using the bootstrap fits"
   ]
  },
  {
   "cell_type": "code",
   "execution_count": null,
   "id": "ad51c684",
   "metadata": {},
   "outputs": [],
   "source": [
    "plt.rcParams[\"figure.dpi\"] = 300\n",
    "results[\"t_0.1-0.2\"].plot.diagnostic.ds_ratio()"
   ]
  },
  {
   "cell_type": "markdown",
   "id": "993f6e27",
   "metadata": {},
   "source": [
    "### b1 - Vector Interaction"
   ]
  },
  {
   "cell_type": "code",
   "execution_count": null,
   "id": "23806bde",
   "metadata": {},
   "outputs": [],
   "source": [
    "results[\"t_0.1-0.2\"].plot.phase.mass_phase(\"p1p0S\", \"p1mpP\", {\"color\": \"tab:blue\"}, {\"color\": \"tab:orange\"})"
   ]
  },
  {
   "cell_type": "markdown",
   "id": "f4a852bb",
   "metadata": {},
   "source": [
    "### Naturality Dominance\n",
    "Use the acceptance corrected data to view the reflectivity contributions, and thus the naturality of our exchange particle"
   ]
  },
  {
   "cell_type": "code",
   "execution_count": null,
   "id": "3872ae9b",
   "metadata": {},
   "outputs": [],
   "source": [
    "fig, axs = plt.subplots(\n",
    "    2,\n",
    "    1,    \n",
    "    sharey=\"row\",\n",
    "    sharex=True,\n",
    "    figsize=(8, 7),\n",
    "    layout=\"constrained\",\n",
    "    squeeze=False\n",
    ")\n",
    "\n",
    "# Store handles and labels for the legend\n",
    "handles = []\n",
    "labels = []\n",
    "bin_width = None\n",
    "\n",
    "for i, t_bin in enumerate(ac_results.keys()):\n",
    "    result = ac_results[t_bin]\n",
    "    masses = result.plot.intensity._masses\n",
    "    bin_width = result.plot.intensity._bin_width\n",
    "\n",
    "    # ##### 1P COHERENT SUM #####  \n",
    "    \n",
    "    h1 = axs[0, i].errorbar(\n",
    "        masses, \n",
    "        result.fit_df[\"p1p\"],\n",
    "        result.plot.intensity.get_bootstrap_error(\"p1p\"),\n",
    "        bin_width / 2,\n",
    "        marker=\"\",\n",
    "        linestyle=\"-\",\n",
    "        markersize=6,\n",
    "        color=\"darkred\",\n",
    "        label=rf\"$1^+$ (Natural)\",\n",
    "    )\n",
    "    h2 = axs[0, i].errorbar(\n",
    "        masses, \n",
    "        result.fit_df[\"p1m\"],\n",
    "        result.plot.intensity.get_bootstrap_error(\"p1m\"),\n",
    "        bin_width / 2,\n",
    "        marker=\"\",\n",
    "        linestyle=\"-\",\n",
    "        markersize=6,\n",
    "        color=\"lightcoral\",\n",
    "        label=rf\"$1^-$ (Natural)\",\n",
    "    )\n",
    "\n",
    "    # ##### 1M COHERENT SUM #####\n",
    "    \n",
    "    h3 = axs[1, i].errorbar(\n",
    "        masses, \n",
    "        result.fit_df[\"m1p\"],\n",
    "        result.plot.intensity.get_bootstrap_error(\"m1p\"),\n",
    "        bin_width / 2,\n",
    "        marker=\"\",\n",
    "        linestyle=\"-\",\n",
    "        markersize=6,\n",
    "        color=\"darkblue\",\n",
    "        label=rf\"$1^+$ (Unnatural)\",\n",
    "    )\n",
    "    h4 = axs[1, i].errorbar(\n",
    "        masses, \n",
    "        result.fit_df[\"m1m\"],\n",
    "        result.plot.intensity.get_bootstrap_error(\"m1m\"),\n",
    "        bin_width / 2,\n",
    "        marker=\"\",\n",
    "        linestyle=\"-\",\n",
    "        markersize=6,\n",
    "        color=\"lightblue\",\n",
    "        label=rf\"$1^-$ (Unnatural)\",\n",
    "    )\n",
    "\n",
    "    # Collect legend handles and labels only from the first subplot to avoid duplicates\n",
    "    if i == 0:\n",
    "        handles.extend([h1, h2, h3, h4])\n",
    "        labels.extend([h.get_label() for h in [h1, h2, h3, h4]])\n",
    "\n",
    "    low_t, high_t = t_bin.split('_')[1].split('-')\n",
    "    axs[0, i].set_title(rf\" {low_t} < $-t$ <  {high_t} GeV$^2$\", pad=10, fontsize=16)\n",
    "    axs[0, i].set_ylim(bottom=0.0)\n",
    "    axs[1, i].set_ylim(bottom=0.0)\n",
    "    axs[1, i].set_xlabel(rf\"$\\omega\\pi^0$ inv. mass $(GeV)$\", loc=\"right\")\n",
    "\n",
    "axs[0, 0].set_ylabel(f\"Events / {bin_width:.3f} GeV\", loc=\"top\")\n",
    "axs[1, 0].set_ylabel(f\"Events / {bin_width:.3f} GeV\", loc=\"top\")\n",
    "axs[1, 0].ticklabel_format(axis='y', style='sci', scilimits=(0,0))\n",
    "\n",
    "# Create a single legend for the entire figure positioned on the right\n",
    "fig.legend(handles, labels, loc='center right', bbox_to_anchor=(1.33, 0.5))"
   ]
  },
  {
   "cell_type": "markdown",
   "id": "d5e25ac6",
   "metadata": {},
   "source": [
    "### Bootstrap Distributions at Discontinuity"
   ]
  },
  {
   "cell_type": "code",
   "execution_count": null,
   "id": "0c829ef1",
   "metadata": {},
   "outputs": [],
   "source": [
    "# find problem fit indices\n",
    "results[\"t_0.1-0.2\"].data_df[results[\"t_0.1-0.2\"].data_df[\"m_high\"] == 1.400][\"fit_index\"].values[0]"
   ]
  }
 ],
 "metadata": {
  "kernelspec": {
   "display_name": "neutralb1",
   "language": "python",
   "name": "python3"
  },
  "language_info": {
   "codemirror_mode": {
    "name": "ipython",
    "version": 3
   },
   "file_extension": ".py",
   "mimetype": "text/x-python",
   "name": "python",
   "nbconvert_exporter": "python",
   "pygments_lexer": "ipython3",
   "version": "3.13.5"
  }
 },
 "nbformat": 4,
 "nbformat_minor": 5
}
